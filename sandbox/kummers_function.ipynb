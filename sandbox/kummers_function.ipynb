{
 "cells": [
  {
   "cell_type": "code",
   "execution_count": 1,
   "metadata": {},
   "outputs": [],
   "source": [
    "from utils import matplotlib_style\n",
    "import numpy as np\n",
    "import math\n",
    "import scipy\n",
    "from scipy.integrate import quad\n",
    "from scipy.special import gammaln, logsumexp\n",
    "import mpmath\n",
    "import matplotlib.pyplot as plt\n",
    "import seaborn as sns\n",
    "\n",
    "cor, pal = matplotlib_style()\n",
    "\n",
    "# Set random seed\n",
    "RANDOM_SEED = 42\n",
    "rng = np.random.default_rng(RANDOM_SEED)"
   ]
  },
  {
   "cell_type": "markdown",
   "metadata": {},
   "source": [
    "## Confluent Hypergeometric Function of the First Kind (Kummer's Function)"
   ]
  },
  {
   "cell_type": "markdown",
   "metadata": {},
   "source": [
    "In this notebook, we will explore different numerical approaches to computing\n",
    "the so-called Kummer's function, which is a solution to the Kummer differential\n",
    "equation\n",
    "$$\n",
    "z \\frac{d^2 w}{dz^2} + (b - z) \\frac{dw}{dz} - a w = 0.\n",
    "\\tag{1}\n",
    "$$\n",
    "The Kummer's function is defined as\n",
    "$$\n",
    "{}_1F_1(a, b, z) = \\sum_{n=0}^{\\infty} \\frac{(a)_n}{(b)_n} \\frac{z^n}{n!},\n",
    "\\tag{2}\n",
    "$$\n",
    "where $(a)_n$ is the Pochhammer symbol, also known as the rising factorial,\n",
    "defined as\n",
    "$$\n",
    "(a)_n = a(a+1)(a+2)\\cdots(a+n-1).\n",
    "\\tag{3}\n",
    "$$\n",
    "The challenging part of computing the Kummer's function is that the series\n",
    "converges slowly, and the terms grow rapidly. This makes it difficult to\n",
    "evaluate the series directly."
   ]
  },
  {
   "cell_type": "markdown",
   "metadata": {},
   "source": [
    "There are different functions within the `Python` ecosystem that can be used to\n",
    "to evaluate Kummer's function. `Scipy` provides the `scipy.special.hyp1f1`, but\n",
    "this function is not very efficient for large values of `z`. `mpmath` provides\n",
    "a high-precision implementation of the Kummer's function, but it is \n",
    "computationally expensive and inefficient at certain parameter regimes. However,\n",
    "it is the \"gold standard\" for evaluating the Kummer's function."
   ]
  },
  {
   "cell_type": "markdown",
   "metadata": {},
   "source": [
    "## `mpmath` high-precision implementation"
   ]
  },
  {
   "cell_type": "markdown",
   "metadata": {},
   "source": [
    "Let's begin then defining the Kummer's function using the `mpmath` library. We\n",
    "will use the `numpy` `frompyfunc` to be able to evaluate the Kummer's function\n",
    "for arrays of values. Everything we test afterwards will be compared to this\n",
    "implementation."
   ]
  },
  {
   "cell_type": "code",
   "execution_count": 2,
   "metadata": {},
   "outputs": [],
   "source": [
    "# define a np.frompyfunc that allows us to evaluate the sympy.mp.math.hyp1f1\n",
    "np_log_hyp = np.frompyfunc(\n",
    "    lambda x, y, z: mpmath.ln(mpmath.hyp1f1(x, y, z, zeroprec=1024)), 3, 1\n",
    ")"
   ]
  },
  {
   "cell_type": "markdown",
   "metadata": {},
   "source": [
    "## Large $a$ and $b$ regime"
   ]
  },
  {
   "cell_type": "markdown",
   "metadata": {},
   "source": [
    "The most challenging regime we have to deal with is when $a$ and $b$ are large.\n",
    "This is essential for the computations we want to make with the Kummer's\n",
    "function.\n",
    "\n",
    "The [*Digital Library of Mathematical Functions*\n",
    "(DLMF)](https://dlmf.nist.gov/13.8) provides an asymptotic approximation for the\n",
    "Kummer's function when $a$ and $b$ are large. The asymptotic approximation is\n",
    "of the form\n",
    "$$\n",
    "M(a, b, z) = \\mathrm{e}^{\\nu z} \n",
    "\\frac{\\Gamma^*(b)}{\\Gamma^*(a)}\n",
    "\\left(\n",
    "    1+\\frac{(1-\\nu)\\left(1+6 v^2 z^2\\right)}{12 a}+\n",
    "    \\mathcal{O}\\left(\\frac{1}{\\min \\left(a^2, b^2\\right)}\\right)\n",
    "\\right),\n",
    "\\tag{4}\n",
    "$$\n",
    "where $\\nu = a / b$ and $\\Gamma^*(z)$ is the [scaled gamma\n",
    "function](https://dlmf.nist.gov/5.11#E3) defined as\n",
    "$$\n",
    "\\Gamma^*(z) \\sim \n",
    "\\mathrm{e}^{-z} \n",
    "z^z\\left(\\frac{2 \\pi}{z}\\right)^{1 / 2} \n",
    "\\sum_{k=0}^{\\infty} \\frac{g_k}{z^k},\n",
    "\\tag{5}\n",
    "$$\n",
    "with\n",
    "$$\n",
    "\\begin{aligned}\n",
    "& g_0=1, \\\\\n",
    "& g_1=\\frac{1}{12}, \\\\\n",
    "& g_2=\\frac{1}{288}, \\\\\n",
    "& g_3=-\\frac{139}{51840}, \\\\\n",
    "& g_4=-\\frac{571}{2488320}, \\\\\n",
    "& g_5=\\frac{163879}{209018880}, \\\\\n",
    "& g_6=\\frac{5246819}{75246796800} . \\\\\n",
    "\\end{aligned}\n",
    "\\tag{6}\n",
    "$$\n",
    "and in general,\n",
    "$$\n",
    "g_k=\\sqrt{2}\\left(\\frac{1}{2}\\right)_k a_{2 k},\n",
    "\\tag{7}\n",
    "$$\n",
    "where\n",
    "$$\n",
    "a_0 = \\frac{1}{2}\\sqrt{2},\n",
    "\\tag{8}\n",
    "$$\n",
    "and\n",
    "$$\n",
    "a_0 a_k + \n",
    "\\frac{1}{2} a_1 a_{k-1}+\\frac{1}{3} a_2 a_{k-2} + \\cdots + \n",
    "\\frac{1}{k+1} a_k a_0 = \\frac{1}{k} a_{k-1}.\n",
    "\\tag{9}\n",
    "$$"
   ]
  },
  {
   "cell_type": "markdown",
   "metadata": {},
   "source": [
    "The DLMF cites [this paper](https://www.jstor.org/stable/2004538?casa_token=OhPd95uSK-YAAAAA:hRDdWnyk2IperpmCPyY_Cy-pPNozclcx0Q_DTtFU1l8jkPsyj6US2fjpLvuLp-hkeDkhPJk6i_9c5m2-2Mz_dxWatJP_06YaSIbdeOQ5O8Em9jsGdWXg) listing the first 20 values of $g_k$. The list is the \n",
    "following:\n",
    "$$\n",
    "\\begin{aligned}\n",
    "& g_0 = 1 \\\\\n",
    "& g_1 = \\frac{1}{12} \\\\\n",
    "& g_2 = \\frac{1}{288} \\\\\n",
    "& g_3 = - \\frac{139}{51840} \\\\\n",
    "& g_4 = - \\frac{571}{2488320} \\\\\n",
    "& g_5 = \\frac{163,879}{209,018,880} \\\\\n",
    "& g_6 = \\frac{5,246,819}{75,246,796,800} \\\\\n",
    "& g_7 = - \\frac{534,703,531}{902,961,561,600} \\\\\n",
    "& g_8 = - \\frac{4,483,131,259}{86,684,309,913,600} \\\\\n",
    "& g_9 = \\frac{432,261,921,612,371}{514,904,800,886,784,000} \\\\\n",
    "& g_{10} = \\frac{6,232,523,202,521,089}{86,504,006,548,979,712,000} \\\\\n",
    "& g_{11} = - \\frac{25,834,629,665,134,204,969}{13,494,625,021,640,835,072,000} \\\\\n",
    "& g_{12} = - \\frac{1,579,029,138,854,919,086,429}{9,716,130,015,581,401,251,840,000} \\\\\n",
    "& g_{13} = \\frac{746,590,869,962,651,602,203,151}{116,593,560,186,976,815,022,080,000} \\\\\n",
    "& g_{14} = \\frac{1,511,513,601,028,097,903,631,961}{2,798,245,444,487,443,560,529,920,000} \\\\\n",
    "& g_{15} = - \\frac{8,849,272,268,392,873,147,705,987,190,261}{299,692,087,104,605,205,332,754,432,000,000} \\\\\n",
    "& g_{16} = - \\frac{142,801,712,490,607,530,608,130,701,097,701}{57,540,880,724,084,199,423,888,850,944,000,000} \\\\\n",
    "& g_{17} = \\frac{2,355,444,393,109,967,510,921,431,436,000,087,153}{13,119,320,805,091,197,468,646,658,015,232,000,000} \\\\\n",
    "& g_{18} = \\frac{2,346,608,607,351,903,737,647,919,577,082,115,121,863}{155,857,531,164,483,425,927,522,297,220,956,160,000,000} \\\\\n",
    "& g_{19} = - \\frac{2,603,072,187,220,373,277,150,999,431,416,562,396,331,667}{1,870,290,373,973,801,111,130,267,566,651,473,920,000,000} \\\\\n",
    "& g_{20} = - \\frac{73,239,727,426,811,935,976,967,471,475,430,268,695,630,993}{628,417,565,655,197,173,339,769,902,394,895,237,120,000,000} \\\\\n",
    "&\n",
    "\\end{aligned}\n",
    "\\tag{10}\n",
    "$$\n",
    "\n",
    "Let's pack the elements of this list into a `Python` dictionary."
   ]
  },
  {
   "cell_type": "code",
   "execution_count": 3,
   "metadata": {},
   "outputs": [],
   "source": [
    "g_k_dict = {\n",
    "    \"g_0\": 1,\n",
    "    \"g_1\": 1/12,\n",
    "    \"g_2\": 1/288,\n",
    "    \"g_3\": - 139/51840,\n",
    "    \"g_4\": - 571/2488320,\n",
    "    \"g_5\": 163879/209018880,\n",
    "    \"g_6\": 5246819/75246796800,\n",
    "    \"g_7\": - 534703531/902961561600,\n",
    "    \"g_8\": - 4483131259/86684309913600,\n",
    "    \"g_9\": 432261921612371/514904800886784000,\n",
    "    \"g_10\": 6232523202521089/86504006548979712000,\n",
    "    \"g_11\": - 25834629665134204969/13494625021640835072000,\n",
    "    \"g_12\": - 1579029138854919086429/9716130015581401251840000,\n",
    "    \"g_13\": 746590869962651602203151/116593560186976815022080000,\n",
    "    \"g_14\": 1511513601028097903631961/2798245444487443560529920000,\n",
    "    \"g_15\": - 8849272268392873147705987190261/299692087104605205332754432000000,\n",
    "    \"g_16\": - 142801712490607530608130701097701/57540880724084199423888850944000000,\n",
    "    \"g_17\": 2355444393109967510921431436000087153/13119320805091197468646658015232000000,\n",
    "    \"g_18\": 2346608607351903737647919577082115121863/155857531164483425927522297220956160000000,\n",
    "    \"g_19\": - 2603072187220373277150999431416562396331667/1870290373973801111130267566651473920000000,\n",
    "    \"g_20\": - 73239727426811935976967471475430268695630993/628417565655197173339769902394895237120000000\n",
    "}"
   ]
  },
  {
   "cell_type": "markdown",
   "metadata": {},
   "source": [
    "Next, let's implement the asymptotic approximation for the Kummer's function."
   ]
  },
  {
   "cell_type": "code",
   "execution_count": 4,
   "metadata": {},
   "outputs": [],
   "source": [
    "def scaled_gamma_function(z, n_terms, coefficients):\n",
    "    \"\"\"\n",
    "    Computes the scaled gamma function Γ*(z) up to a specified number of terms.\n",
    "\n",
    "    The scaled gamma function is given by:\n",
    "    Γ*(z) ∼ e^(-z) * z^z * (2π/z)^(1/2) * Σ (g_k / z^k), for k=0 to ∞\n",
    "\n",
    "    Parameters\n",
    "    ----------\n",
    "    - z (float or complex): The argument of the scaled gamma function.\n",
    "    - n_terms (int): The number of terms to include in the series approximation.\n",
    "    - coefficients (dict): A dictionary containing the coefficients g_k.\n",
    "\n",
    "    Returns\n",
    "    -------\n",
    "    - float or complex: The computed value of the scaled gamma function Γ*(z).\n",
    "    \"\"\"\n",
    "    # Compute the prefactor e^(-z) * z^z * (2π/z)^(1/2)\n",
    "    prefactor = np.exp(-z) * (z ** z) * ((2 * np.pi / z) ** 0.5)\n",
    "\n",
    "    # Compute the series sum Σ (g_k / z^k) for k=0 to n_terms-1\n",
    "    series_sum = sum(coefficients[f\"g_{k}\"] / (z ** k) for k in range(n_terms))\n",
    "\n",
    "    # Compute the scaled gamma function Γ*(z)\n",
    "    gamma_star = prefactor * series_sum\n",
    "\n",
    "    return gamma_star"
   ]
  },
  {
   "cell_type": "markdown",
   "metadata": {},
   "source": [
    "We will also need the log of the gamma function."
   ]
  },
  {
   "cell_type": "code",
   "execution_count": 5,
   "metadata": {},
   "outputs": [],
   "source": [
    "def log_scaled_gamma_function(z, n_terms, coefficients):\n",
    "    \"\"\"\n",
    "    Computes the logarithm of the scaled gamma function log(Γ*(z)) up to a\n",
    "    specified number of terms.\n",
    "\n",
    "    The scaled gamma function is given by: \n",
    "    Γ*(z) ∼ e^(-z) * z^z * (2π/z)^(1/2) * Σ (g_k / z^k), for k=0 to ∞\n",
    "\n",
    "    Parameters\n",
    "    ----------\n",
    "    - z (float or complex): The argument of the scaled gamma function.\n",
    "    - n_terms (int): The number of terms to include in the series approximation.\n",
    "    - coefficients (dict): A dictionary containing the coefficients g_k.\n",
    "\n",
    "    Returns\n",
    "    -------\n",
    "    - float or complex: The computed value of the logarithm of the scaled gamma\n",
    "      function log(Γ*(z)).\n",
    "    \"\"\"\n",
    "    # Compute the logarithm of the prefactor log(e^(-z) * z^z * (2π/z)^(1/2))\n",
    "    log_prefactor = -z + z * np.log(z) + 0.5 * np.log(2 * np.pi / z)\n",
    "\n",
    "    # Compute the series sum Σ (g_k / z^k) for k=0 to n_terms-1\n",
    "    series_sum = sum(coefficients[f\"g_{k}\"] / (z ** k) for k in range(n_terms))\n",
    "\n",
    "    # Compute the logarithm of the series sum\n",
    "    log_series_sum = np.log(series_sum)\n",
    "\n",
    "    # Compute the logarithm of the scaled gamma function log(Γ*(z))\n",
    "    log_gamma_star = log_prefactor + log_series_sum\n",
    "\n",
    "    return log_gamma_star"
   ]
  },
  {
   "cell_type": "markdown",
   "metadata": {},
   "source": [
    "Now we can implement the asymptotic approximation for the Kummer's function."
   ]
  },
  {
   "cell_type": "code",
   "execution_count": 6,
   "metadata": {},
   "outputs": [],
   "source": [
    "def large_a_b_kummer(a, b, z, n_terms, coefficients):\n",
    "    \"\"\"\n",
    "    Computes an approximation of the confluent hypergeometric function 1F1(a, b,\n",
    "    z) for large values of the parameters a and b using the function M(a, b, z)\n",
    "    as described in the provided formula.\n",
    "\n",
    "    The function M(a, b, z) is given by:\n",
    "    M(a, b, z) = e^(νz) * (Γ*(b) / Γ*(a)) * \n",
    "                 (1 + ((1-ν) * (1 + 6ν^2z^2)) / (12a) + O(1/min(a^2, b^2)))\n",
    "\n",
    "    Parameters\n",
    "    ----------\n",
    "    - a (float): The parameter 'a' in the function.\n",
    "    - b (float): The parameter 'b' in the function.\n",
    "    - z (float or complex): The argument 'z' in the function.\n",
    "    - n_terms (int): The number of terms to include in the series approximation\n",
    "      for the scaled gamma functions.\n",
    "    - coefficients (dict): A dictionary containing the coefficients g_k for the\n",
    "      scaled gamma functions.\n",
    "\n",
    "    Returns\n",
    "    -------\n",
    "    - float or complex: The computed value of the function M(a, b, z).\n",
    "    \"\"\"\n",
    "    # Define the parameter ν = a / b\n",
    "    nu = a / b\n",
    "\n",
    "    # Compute the exponential term e^(νz)\n",
    "    exp_term = np.exp(nu * z)\n",
    "\n",
    "    # Compute the logarithms of the scaled gamma functions log(Γ*(b)) and\n",
    "    # log(Γ*(a))\n",
    "    log_gamma_star_b = log_scaled_gamma_function(b, n_terms, coefficients)\n",
    "    log_gamma_star_a = log_scaled_gamma_function(a, n_terms, coefficients)\n",
    "\n",
    "    # Compute the ratio Γ*(b) / Γ*(a)\n",
    "    gamma_ratio = np.exp(log_gamma_star_b - log_gamma_star_a)\n",
    "\n",
    "    # Compute the correction term (1 + ((1-ν) * (1 + 6ν^2z^2)) / (12a))\n",
    "    correction_term = 1 + ((1 - nu) * (1 + 6 * nu**2 * z**2)) / (12 * a)\n",
    "\n",
    "    # Compute the function M(a, b, z)\n",
    "    M_value = exp_term * gamma_ratio * correction_term\n",
    "\n",
    "    return M_value"
   ]
  },
  {
   "cell_type": "markdown",
   "metadata": {},
   "source": [
    "Likewise, we can implement the log of this asymptotic approximation for the\n",
    "Kummer's function."
   ]
  },
  {
   "cell_type": "code",
   "execution_count": 7,
   "metadata": {},
   "outputs": [],
   "source": [
    "def log_large_a_b_kummer(a, b, z, n_terms=20, coefficients=g_k_dict):\n",
    "    \"\"\"\n",
    "    Computes the logarithm of the Kummer function M(a, b, z) for large values of\n",
    "    the parameters a and b using the function M(a, b, z) as\n",
    "\n",
    "    M(a, b, z) = e^(νz) * (Γ*(b) / Γ*(a)) * \n",
    "                 (1 + ((1-ν) * (1 + 6ν^2z^2)) / (12a) + O(1/min(a^2, b^2)))\n",
    "\n",
    "    Parameters\n",
    "    ----------\n",
    "    - a (float): The parameter 'a' in the function.\n",
    "    - b (float): The parameter 'b' in the function.\n",
    "    - z (float or complex): The argument 'z' in the function.\n",
    "    - n_terms (int): The number of terms to include in the series approximation\n",
    "      for the scaled gamma functions.\n",
    "    - coefficients (dict): A dictionary containing the coefficients g_k for the\n",
    "      scaled gamma functions.\n",
    "\n",
    "    Returns\n",
    "    -------\n",
    "    - float or complex: The computed value of the logarithm of the function M(a,\n",
    "      b, z).\n",
    "    \"\"\"\n",
    "    # Define the parameter ν = a / b\n",
    "    nu = a / b\n",
    "\n",
    "    # Compute the logarithm of the exponential term log(e^(νz)) = νz\n",
    "    log_exp_term = nu * z\n",
    "\n",
    "    # Compute the logarithms of the scaled gamma functions log(Γ*(b)) and\n",
    "    # log(Γ*(a))\n",
    "    log_gamma_star_b = log_scaled_gamma_function(b, n_terms, coefficients)\n",
    "    log_gamma_star_a = log_scaled_gamma_function(a, n_terms, coefficients)\n",
    "\n",
    "    # Compute the logarithm of the ratio Γ*(b) / Γ*(a)\n",
    "    log_gamma_ratio = log_gamma_star_b - log_gamma_star_a\n",
    "\n",
    "    # Compute the correction term (1 + ((1-ν) * (1 + 6ν^2z^2)) / (12a))\n",
    "    correction_term = 1 + ((1 - nu) * (1 + 6 * nu**2 * z**2)) / (12 * a)\n",
    "\n",
    "    # Compute the logarithm of the correction term\n",
    "    log_correction_term = np.log(correction_term)\n",
    "\n",
    "    # Compute the logarithm of the function M(a, b, z)\n",
    "    log_M_value = log_exp_term + log_gamma_ratio + log_correction_term\n",
    "\n",
    "    return log_M_value"
   ]
  },
  {
   "cell_type": "markdown",
   "metadata": {},
   "source": [
    "Let's test this function for the correct parameter regime."
   ]
  },
  {
   "cell_type": "code",
   "execution_count": 8,
   "metadata": {},
   "outputs": [
    {
     "data": {
      "text/plain": [
       "-78.9545426872107"
      ]
     },
     "execution_count": 8,
     "metadata": {},
     "output_type": "execute_result"
    }
   ],
   "source": [
    "# Define parameters\n",
    "a = 1002\n",
    "b = 1005\n",
    "z = -100\n",
    "\n",
    "# Compute the Kummer function M(a, b, z) using the large_a_b_kummer function\n",
    "approx_M = log_large_a_b_kummer(a, b, z, n_terms=20, coefficients=g_k_dict)\n",
    "\n",
    "approx_M"
   ]
  },
  {
   "cell_type": "markdown",
   "metadata": {},
   "source": [
    "## Two-state promoter log probability"
   ]
  },
  {
   "cell_type": "markdown",
   "metadata": {},
   "source": [
    "The reason we are interested in the Kummer's function is that it appears in the\n",
    "steady-state mRNA distribution of a two-state promoter model. This distribution\n",
    "is of the form\n",
    "$$\n",
    "{\\scriptstyle\n",
    "P(m) = \n",
    "\\frac{1}{\\Gamma(m + 1)}\n",
    "\\frac{\n",
    "    \\Gamma\n",
    "    \\left(\n",
    "        \\frac{k^{(p)}_{\\text{on}}}{\\gamma_m} + m\n",
    "    \\right)\n",
    "}{\n",
    "    \\Gamma\n",
    "    \\left(\n",
    "        \\frac{k^{(p)}_{\\text{on}}}{\\gamma_m}\n",
    "    \\right)\n",
    "}\n",
    "\\frac{\n",
    "    \\Gamma\n",
    "    \\left(\n",
    "        \\frac{k^{(p)}_{\\text{on}} + k^{(p)}_{\\text{off}}}{\\gamma_m}\n",
    "    \\right)\n",
    "}{\n",
    "    \\Gamma\n",
    "    \\left(\n",
    "        \\frac{k^{(p)}_{\\text{on}} + k^{(p)}_{\\text{off}}}{\\gamma_m} + m \n",
    "    \\right)\n",
    "}\n",
    "\\left( \\frac{r_m}{\\gamma_m} \\right)^m \\\\\n",
    "\\times {}_1F_1 \n",
    "\\left(\n",
    "    \\frac{\n",
    "            k^{(p)}_{\\text{on}} \n",
    "        }{\n",
    "            \\gamma_m\n",
    "        }\n",
    "    + m,\n",
    "    \\frac{\n",
    "            k^{(p)}_{\\text{on}} + k^{(p)}_{\\text{off}} \n",
    "        }{\n",
    "            \\gamma_m\n",
    "        }\n",
    "    + m,\n",
    "    - \\frac{r_m}{\\gamma_m}\n",
    "\\right),\n",
    "}\n",
    "\\tag{11}\n",
    "$$\n"
   ]
  },
  {
   "cell_type": "markdown",
   "metadata": {},
   "source": [
    "where $m$ is the steady-state mRNA copy number per cell, $k_on^{(p)}$ and\n",
    "$k_off^{(p)}$ are the rate constants for the promoter turning on and off,\n",
    "respectively, $r_m$ is the mRNA production rate, and $\\gamma_m$ is the mRNA\n",
    "degradation rate.\n",
    "\n",
    "Since the $a$ and $b$ terms in the Kummer's function grow with the number of\n",
    "mRNAs, we need to be able to evaluate the Kummer's function for large values of\n",
    "these parameters.\n",
    "\n",
    "Let's define a function that computes the log of the probability distribution in\n",
    "Eq. (11). For this function, we will have the function to evaluate the Kummer's\n",
    "function as an argument."
   ]
  },
  {
   "cell_type": "code",
   "execution_count": 9,
   "metadata": {},
   "outputs": [],
   "source": [
    "def log_p_m(mRNA, kp_on, kp_off, rm, gm=1, log_M_func=np_log_hyp):\n",
    "    '''\n",
    "    Computes the log probability lnP(m) for a two-state promoter model, i.e. the\n",
    "    probability of having m mRNA.\n",
    "\n",
    "    Parameters\n",
    "    ----------\n",
    "    mRNA : float.\n",
    "        mRNA copy number at which evaluate the probability.\n",
    "    kp_on : float.\n",
    "        rate of activation of the promoter in the chemical master equation\n",
    "    kp_off : float.\n",
    "        rate of deactivation of the promoter in the chemical master equation\n",
    "    rm : float.\n",
    "        production rate of the mRNA\n",
    "    gm : float.\n",
    "        1 / half-life time for the mRNA.\n",
    "    log_M_func : function.\n",
    "        Function to evaluate the log Kummer function.\n",
    "\n",
    "    Returns\n",
    "    -------\n",
    "    log probability lnP(m)\n",
    "    '''\n",
    "    # Convert the mRNA copy number to a  numpy array\n",
    "    mRNA = np.array(mRNA)\n",
    "\n",
    "    # Compute the probability\n",
    "    lnp = scipy.special.gammaln(kp_on / gm + mRNA) \\\n",
    "        - scipy.special.gammaln(mRNA + 1) \\\n",
    "        - scipy.special.gammaln((kp_off + kp_on) / gm + mRNA) \\\n",
    "        + scipy.special.gammaln((kp_off + kp_on) / gm) \\\n",
    "        - scipy.special.gammaln(kp_on / gm) \\\n",
    "        + mRNA * np.log(rm / gm) \\\n",
    "        + log_M_func(\n",
    "            kp_on / gm + mRNA,\n",
    "            (kp_off + kp_on) / gm + mRNA,\n",
    "            -rm / gm\n",
    "    )\n",
    "\n",
    "    return lnp"
   ]
  },
  {
   "cell_type": "markdown",
   "metadata": {},
   "source": [
    "This function evaluates the log probability for a single mRNA copy number. \n",
    "Usually, we need to compute this log probability for a range of copy numbers. \n",
    "But as $m$ increases, the high precision of the `mpmath` library fails to \n",
    "converge to the correct value. Therefore, we need to define a function that \n",
    "evaluates this log probability for a range of mRNA copy numbers, but once the\n",
    "first failure in the high-precision computation is detected, it automatically\n",
    "switches to the asymptotic approximation."
   ]
  },
  {
   "cell_type": "code",
   "execution_count": 10,
   "metadata": {},
   "outputs": [],
   "source": [
    "def log_probability(\n",
    "    mRNA_values,\n",
    "    kp_on,\n",
    "    kp_off,\n",
    "    rm,\n",
    "    log_M_func=np_log_hyp,\n",
    "    log_M_approx=log_large_a_b_kummer,\n",
    "    gm=1,\n",
    "):\n",
    "    \"\"\"\n",
    "    Evaluates the log probability for a range of mRNA values.\n",
    "\n",
    "    Parameters\n",
    "    ----------\n",
    "    - mRNA_values (array-like): The range of mRNA values to evaluate.\n",
    "    - kp_on (float): Rate of activation of the promoter.\n",
    "    - kp_off (float): Rate of deactivation of the promoter.\n",
    "    - rm (float): Production rate of the mRNA.\n",
    "    - gm (float): 1 / half-life time for the mRNA.\n",
    "    - n_terms (int): The number of terms to include in the series approximation\n",
    "      for the scaled gamma functions.\n",
    "    - coefficients (dict): A dictionary containing the coefficients g_k for the\n",
    "      scaled gamma functions.\n",
    "    - M_func (function): The default function to compute M(a, b, z).\n",
    "    - log_large_a_b_kummer (function): The fallback function to compute the log\n",
    "      of M(a, b, z).\n",
    "\n",
    "    Returns\n",
    "    -------\n",
    "    - list: The computed log probabilities for the range of mRNA values.\n",
    "    \"\"\"\n",
    "    log_probs = []\n",
    "    use_large_a_b = False\n",
    "\n",
    "    for mRNA in mRNA_values:\n",
    "        if use_large_a_b:\n",
    "            # Use log_large_a_b_kummer for the rest of the evaluations\n",
    "            log_prob = log_p_m(\n",
    "                mRNA, kp_on, kp_off, rm, gm, log_M_approx\n",
    "            )\n",
    "        else:\n",
    "            try:\n",
    "                # Compute the log probability using the default M_func\n",
    "                log_prob = float(\n",
    "                    log_p_m(mRNA, kp_on, kp_off, rm, gm, log_M_func)\n",
    "                )\n",
    "\n",
    "                # Check if the result is infinity or NaN\n",
    "                if np.isinf(log_prob) or np.isnan(log_prob):\n",
    "                    raise ValueError(\"Result is infinity or NaN\")\n",
    "\n",
    "            except:\n",
    "                # Switch to using log_large_a_b_kummer if M_func fails\n",
    "                log_prob = log_p_m(\n",
    "                    mRNA, kp_on, kp_off, rm, gm, log_M_approx\n",
    "                )\n",
    "                use_large_a_b = True\n",
    "\n",
    "        log_probs.append(log_prob)\n",
    "\n",
    "    return log_probs"
   ]
  },
  {
   "cell_type": "markdown",
   "metadata": {},
   "source": [
    "Let's make sure that the function is working by evaluating it at a parameter\n",
    "regime we know works with the high-precision `mpmath` library."
   ]
  },
  {
   "cell_type": "code",
   "execution_count": 11,
   "metadata": {},
   "outputs": [
    {
     "data": {
      "text/plain": [
       "Text(0, 0.5, 'Probability')"
      ]
     },
     "execution_count": 11,
     "metadata": {},
     "output_type": "execute_result"
    },
    {
     "data": {
      "image/png": "[encoded data removed]",
      "text/plain": [
       "<Figure size 525x450 with 1 Axes>"
      ]
     },
     "metadata": {},
     "output_type": "display_data"
    }
   ],
   "source": [
    "# Define parameters\n",
    "k_on = 4.0\n",
    "k_off = 18.0\n",
    "r_m = 100.0\n",
    "\n",
    "# Define range of mRNA\n",
    "m_range = np.arange(0, 75)\n",
    "\n",
    "# Evaluate the log probability\n",
    "logP = log_probability(m_range, k_on, k_off, r_m)\n",
    "\n",
    "# Initialize figure\n",
    "fig, ax = plt.subplots(1, 1, figsize=(1.75, 1.5))\n",
    "\n",
    "# Plot the probability\n",
    "ax.step(m_range, np.exp(logP))\n",
    "\n",
    "# Label axis\n",
    "ax.set_xlabel(\"mRNA copy number\")\n",
    "ax.set_ylabel(\"Probability\")"
   ]
  },
  {
   "cell_type": "markdown",
   "metadata": {},
   "source": [
    "This is the expected form of the probability distribution. Let's now test the\n",
    "function for a parameter regime where the high-precision `mpmath` library fails."
   ]
  },
  {
   "cell_type": "code",
   "execution_count": 12,
   "metadata": {},
   "outputs": [
    {
     "data": {
      "text/plain": [
       "Text(0, 0.5, 'Probability')"
      ]
     },
     "execution_count": 12,
     "metadata": {},
     "output_type": "execute_result"
    },
    {
     "data": {
      "image/png": "[encoded data removed]",
      "text/plain": [
       "<Figure size 525x450 with 1 Axes>"
      ]
     },
     "metadata": {},
     "output_type": "display_data"
    }
   ],
   "source": [
    "# Define parameters\n",
    "k_on = 4.0\n",
    "k_off = 18.0\n",
    "r_m = 1000.0\n",
    "\n",
    "# Define range of mRNA\n",
    "m_range = np.arange(0, 500)\n",
    "\n",
    "# Evaluate the log probability\n",
    "logP = log_probability(m_range, k_on, k_off, r_m)\n",
    "\n",
    "# Initialize figure\n",
    "fig, ax = plt.subplots(1, 1, figsize=(1.75, 1.5))\n",
    "\n",
    "# Plot the probability\n",
    "ax.step(m_range, np.exp(logP))\n",
    "\n",
    "# Label axis\n",
    "ax.set_xlabel(\"mRNA copy number\")\n",
    "ax.set_ylabel(\"Probability\")"
   ]
  },
  {
   "cell_type": "markdown",
   "metadata": {},
   "source": [
    "This looks excellent! The asymptotic approximation seems to be working really\n",
    "well. Let's try an even more challenging parameter regime."
   ]
  },
  {
   "cell_type": "code",
   "execution_count": 13,
   "metadata": {},
   "outputs": [
    {
     "data": {
      "text/plain": [
       "Text(0, 0.5, 'Probability')"
      ]
     },
     "execution_count": 13,
     "metadata": {},
     "output_type": "execute_result"
    },
    {
     "data": {
      "image/png": "[encoded data removed]",
      "text/plain": [
       "<Figure size 525x450 with 1 Axes>"
      ]
     },
     "metadata": {},
     "output_type": "display_data"
    }
   ],
   "source": [
    "# Define parameters\n",
    "k_on = 40.0\n",
    "k_off = 18.0\n",
    "r_m = 1000.0\n",
    "\n",
    "# Define range of mRNA\n",
    "m_range = np.arange(450, 1000, 5)\n",
    "\n",
    "# Evaluate the log probability\n",
    "logP = log_probability(m_range, k_on, k_off, r_m)\n",
    "\n",
    "# Initialize figure\n",
    "fig, ax = plt.subplots(1, 1, figsize=(1.75, 1.5))\n",
    "\n",
    "# Plot the probability\n",
    "ax.step(m_range, np.exp(logP))\n",
    "\n",
    "# Label axis\n",
    "ax.set_xlabel(\"mRNA copy number\")\n",
    "ax.set_ylabel(\"Probability\")"
   ]
  },
  {
   "cell_type": "markdown",
   "metadata": {},
   "source": [
    "Another excellent result! The asymptotic approximation seems to be working\n",
    "really well. "
   ]
  },
  {
   "cell_type": "markdown",
   "metadata": {},
   "source": [
    "## Integral form of the Kummer's function"
   ]
  },
  {
   "cell_type": "markdown",
   "metadata": {},
   "source": [
    "The Kummer's function can also be written in the integral form\n",
    "\n",
    "$$\n",
    "M(a, b, z) = \\frac{\\Gamma(b)}{\\Gamma(a) \\Gamma(b-a)} \n",
    "\\int_0^1 dt \\; e^{z t} t^{a-1}(1-t)^{b-a-1},\n",
    "\\tag{12}\n",
    "$$\n",
    "where $b > 0$ and $(b - a) > 0$. This integral form could be computationally\n",
    "difficult to evaluate for large positive values of $z$ because of the\n",
    "exponential growth of the integrand. However, for our particular case, $z < 0$,\n",
    "making it easier to evaluate.\n",
    "\n",
    "Let's define a function that computes this integral form of the Kummer's\n",
    "function."
   ]
  },
  {
   "cell_type": "code",
   "execution_count": 14,
   "metadata": {},
   "outputs": [],
   "source": [
    "def log_kummer_integral(a, b, z, epsabs=1.49e-8, epsrel=1.49e-8, limit=50):\n",
    "    \"\"\"\n",
    "    Computes the logarithm of the Kummer function M(a, b, z) using an integral\n",
    "    representation with improved precision and robustness.\n",
    "    \n",
    "    Parameters:\n",
    "    -----------\n",
    "    a, b, z : float or complex\n",
    "        Parameters of the Kummer function.\n",
    "    epsabs, epsrel : float\n",
    "        Absolute and relative error tolerances for the integration.\n",
    "    limit : int\n",
    "        Maximum number of subintervals used for the integration.\n",
    "    \n",
    "    Returns:\n",
    "    --------\n",
    "    float or complex\n",
    "        The logarithm of the Kummer function M(a, b, z).\n",
    "    \"\"\"\n",
    "    if b <= 0 or (b - a) <= 0:\n",
    "        raise ValueError(\"Conditions b > 0 and (b - a) > 0 must be satisfied.\")\n",
    "    \n",
    "    def log_integrand(t):\n",
    "        return z * t + (a - 1) * np.log(t) + (b - a - 1) * np.log1p(-t)\n",
    "    \n",
    "    def integrand(t):\n",
    "        return np.exp(log_integrand(t))\n",
    "    \n",
    "    # Use log-space integration for large absolute values of parameters\n",
    "    use_log_space = np.abs(z) > 100 or np.abs(a) > 100 or np.abs(b) > 100\n",
    "    \n",
    "    if use_log_space:\n",
    "        integral, error = quad(integrand, 0, 1,\n",
    "                               epsabs=epsabs, epsrel=epsrel, limit=limit)\n",
    "        log_integral = np.log(integral)\n",
    "    else:\n",
    "        integral, error = quad(integrand, 0, 1,\n",
    "                               epsabs=epsabs, epsrel=epsrel, limit=limit)\n",
    "        log_integral = np.log(integral)\n",
    "    \n",
    "    log_prefactor = gammaln(b) - (gammaln(a) + gammaln(b - a))\n",
    "    \n",
    "    return log_prefactor + log_integral"
   ]
  },
  {
   "cell_type": "code",
   "execution_count": 15,
   "metadata": {},
   "outputs": [],
   "source": [
    "def log_kummer_integral(a, b, z):\n",
    "    \"\"\"\n",
    "    Computes the logarithm of the Kummer function M(a, b, z) using an integral\n",
    "    representation.\n",
    "\n",
    "    This function calculates log(M(a, b, z)) where M is the Kummer function\n",
    "    (confluent hypergeometric function of the first kind) using the integral\n",
    "    representation:\n",
    "\n",
    "    M(a, b, z) = [Γ(b) / (Γ(a) * Γ(b-a))] * \n",
    "                 ∫[0 to 1] e^(zt) * t^(b-a-1) * (1-t)^(a-1) dt\n",
    "\n",
    "    The function computes this integral in log space to avoid numerical overflow\n",
    "    for large parameter values.\n",
    "\n",
    "    Parameters:\n",
    "    -----------\n",
    "    a : float\n",
    "        The first parameter of the Kummer function.\n",
    "    b : float\n",
    "        The second parameter of the Kummer function. Must be greater than a.\n",
    "    z : float or complex\n",
    "        The argument of the Kummer function.\n",
    "\n",
    "    Returns:\n",
    "    --------\n",
    "    float or complex\n",
    "        The logarithm of the Kummer function M(a, b, z).\n",
    "\n",
    "    Notes:\n",
    "    ------\n",
    "    - This method can be numerically stable for a wider range of parameters\n",
    "      compared to direct computation.\n",
    "    - The function uses scipy's quad for numerical integration and special\n",
    "      functions for log-gamma calculations.\n",
    "    - Care should be taken when b - a is not a positive integer, as the integral\n",
    "      might not converge.\n",
    "    \"\"\"\n",
    "    # Define the log of the integrand for the integral\n",
    "    def log_integrand(t):\n",
    "        log_term1 = z * t  # log(e^(zt)) = zt\n",
    "        log_term2 = (a - 1) * np.log(t)\n",
    "        log_term3 = (b - a - 1) * np.log(1 - t)\n",
    "        return log_term1 + log_term2 + log_term3\n",
    "\n",
    "    # Perform the integration over the interval [0, 1]\n",
    "    integral, error = quad(lambda t: np.exp(log_integrand(t)), 0, 1)\n",
    "    log_integral = np.log(integral)\n",
    "    \n",
    "    # Calculate the log of the prefactor: log(Gamma(b) / (Gamma(a) * Gamma(b-a)))\n",
    "    log_prefactor = gammaln(b) - (gammaln(a) + gammaln(b - a))\n",
    "    \n",
    "    # Return the log of the result\n",
    "    return log_prefactor + log_integral"
   ]
  },
  {
   "cell_type": "markdown",
   "metadata": {},
   "source": [
    "Let's now compare the computation of the log probability using the integral form\n",
    "of the Kummer's function to the log probability using the asymptotic\n",
    "approximation."
   ]
  },
  {
   "cell_type": "code",
   "execution_count": 16,
   "metadata": {},
   "outputs": [
    {
     "data": {
      "text/plain": [
       "Text(0, 0.5, 'Probability')"
      ]
     },
     "execution_count": 16,
     "metadata": {},
     "output_type": "execute_result"
    },
    {
     "data": {
      "image/png": "[encoded data removed]",
      "text/plain": [
       "<Figure size 525x450 with 1 Axes>"
      ]
     },
     "metadata": {},
     "output_type": "display_data"
    }
   ],
   "source": [
    "# Define parameters\n",
    "k_on = 4.0\n",
    "k_off = 18.0\n",
    "r_m = 100.0\n",
    "\n",
    "# Define range of mRNA\n",
    "m_range = np.arange(0, 100)\n",
    "\n",
    "# Evaluate the log probability\n",
    "logP_asymp = log_probability(m_range, k_on, k_off, r_m)\n",
    "logP_integral = log_probability(\n",
    "    m_range, k_on, k_off, r_m, \n",
    "    log_M_func=log_kummer_integral, log_M_approx=log_kummer_integral\n",
    ")\n",
    "\n",
    "# Initialize figure\n",
    "fig, ax = plt.subplots(1, 1, figsize=(1.75, 1.5))\n",
    "\n",
    "# Plot the probability\n",
    "ax.step(m_range, np.exp(logP_asymp), label=\"Asymptotic approximation\")\n",
    "ax.step(m_range, np.exp(logP_integral), label=\"Integral form\")\n",
    "\n",
    "# Add legend\n",
    "ax.legend(fontsize=\"4\")\n",
    "\n",
    "# Label axis\n",
    "ax.set_xlabel(\"mRNA copy number\")\n",
    "ax.set_ylabel(\"Probability\")"
   ]
  },
  {
   "cell_type": "markdown",
   "metadata": {},
   "source": [
    "For reasonable parameter regimes, the integral form of the Kummer's function\n",
    "looks very similar to the high-precision approximation. However, as we let $r_m$\n",
    "increase, there is a funny oscillatory behavior, as shown in the following\n",
    "figure."
   ]
  },
  {
   "cell_type": "code",
   "execution_count": 18,
   "metadata": {},
   "outputs": [
    {
     "name": "stderr",
     "output_type": "stream",
     "text": [
      "/var/folders/dn/1m77v71d7nsfd1x3hbgylp_80000gp/T/ipykernel_23981/444193076.py:48: RuntimeWarning: divide by zero encountered in log\n",
      "  log_integral = np.log(integral)\n"
     ]
    },
    {
     "data": {
      "text/plain": [
       "Text(0, 0.5, 'Probability')"
      ]
     },
     "execution_count": 18,
     "metadata": {},
     "output_type": "execute_result"
    },
    {
     "data": {
      "image/png": "[encoded data removed]",
      "text/plain": [
       "<Figure size 525x450 with 1 Axes>"
      ]
     },
     "metadata": {},
     "output_type": "display_data"
    }
   ],
   "source": [
    "# Define parameters\n",
    "k_on = 4.0\n",
    "k_off = 100.0\n",
    "r_m = 8000.0\n",
    "\n",
    "# Define range of mRNA\n",
    "m_range = np.arange(0, 500)\n",
    "\n",
    "# Evaluate the log probability\n",
    "logP_asymp = log_probability(m_range, k_on, k_off, r_m)\n",
    "logP_integral = log_probability(\n",
    "    m_range, k_on, k_off, r_m, \n",
    "    log_M_func=log_kummer_integral, log_M_approx=log_kummer_integral\n",
    ")\n",
    "\n",
    "# Initialize figure\n",
    "fig, ax = plt.subplots(1, 1, figsize=(1.75, 1.5))\n",
    "\n",
    "# Plot the probability\n",
    "ax.step(m_range, np.exp(logP_asymp), label=\"Asymptotic approximation\")\n",
    "ax.step(m_range, np.exp(logP_integral), label=\"Integral form\")\n",
    "\n",
    "# Add legend\n",
    "ax.legend(fontsize=\"4\")\n",
    "\n",
    "# Label axis\n",
    "ax.set_xlabel(\"mRNA copy number\")\n",
    "ax.set_ylabel(\"Probability\")"
   ]
  },
  {
   "cell_type": "code",
   "execution_count": null,
   "metadata": {},
   "outputs": [],
   "source": [
    "# Define parameters\n",
    "k_on = 4.0\n",
    "k_off = 3.5\n",
    "r_m = 2.5\n",
    "\n",
    "# Define range of mRNA\n",
    "m_range = np.arange(0, 90)\n",
    "\n",
    "# Evaluate the log probability\n",
    "logP_asymp = log_probability(\n",
    "    m_range, k_on, k_off, r_m,\n",
    "    log_M_approx=log_kummer_integral\n",
    ")\n",
    "logP_integral = log_probability(\n",
    "    m_range, k_on, k_off, r_m, \n",
    "    log_M_func=log_kummer_integral, log_M_approx=log_kummer_integral\n",
    ")\n",
    "\n",
    "# Initialize figure\n",
    "fig, ax = plt.subplots(1, 1, figsize=(1.75, 1.5))\n",
    "\n",
    "# Plot the probability\n",
    "ax.step(\n",
    "    m_range, \n",
    "    np.exp(logP_asymp), \n",
    "    label=\"Asymptotic approximation\"\n",
    ")\n",
    "ax.step(m_range, np.exp(logP_integral), label=\"Integral form\")\n",
    "\n",
    "# Add legend\n",
    "ax.legend(fontsize=\"4\")\n",
    "\n",
    "# Label axis\n",
    "ax.set_xlabel(\"mRNA copy number\")\n",
    "ax.set_ylabel(\"Probability\")"
   ]
  }
 ],
 "metadata": {
  "kernelspec": {
   "display_name": "scrappy-jDg5b02t-py3.11",
   "language": "python",
   "name": "python3"
  },
  "language_info": {
   "codemirror_mode": {
    "name": "ipython",
    "version": 3
   },
   "file_extension": ".py",
   "mimetype": "text/x-python",
   "name": "python",
   "nbconvert_exporter": "python",
   "pygments_lexer": "ipython3",
   "version": "3.11.8"
  }
 },
 "nbformat": 4,
 "nbformat_minor": 2
}
