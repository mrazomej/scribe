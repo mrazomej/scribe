{
 "cells": [
  {
   "cell_type": "markdown",
   "metadata": {},
   "source": [
    "# Inferring parameters from a standard gaussian"
   ]
  },
  {
   "cell_type": "code",
   "execution_count": 2,
   "metadata": {},
   "outputs": [],
   "source": [
    "import numpy as np \n",
    "import pandas as pd \n",
    "import matplotlib.pyplot as plt \n",
    "import bayesflow as bf\n",
    "from utils import matplotlib_style\n",
    "cor, pal = matplotlib_style()"
   ]
  },
  {
   "cell_type": "markdown",
   "metadata": {},
   "source": [
    "In this notebook, I try to trouble shoot how to use BayesFlow for the inference \n",
    "phase, which is missing in almost all of their documentation."
   ]
  },
  {
   "cell_type": "code",
   "execution_count": 10,
   "metadata": {},
   "outputs": [
    {
     "data": {
      "text/plain": [
       "{'prior_draws': array([[ 1.170754  ,  0.36282952, -0.75676374, -0.16365869]]),\n",
       " 'batchable_context': None,\n",
       " 'non_batchable_context': None}"
      ]
     },
     "execution_count": 10,
     "metadata": {},
     "output_type": "execute_result"
    }
   ],
   "source": [
    "# Set up the rng\n",
    "RNG = np.random.default_rng()\n",
    "\n",
    "# Define the prior\n",
    "def prior_fun(dims=1):\n",
    "    return RNG.normal(size=dims)\n",
    "prior = bf.simulation.Prior(prior_fun=prior_fun)\n",
    "prior(1)"
   ]
  },
  {
   "cell_type": "code",
   "execution_count": null,
   "metadata": {},
   "outputs": [],
   "source": []
  },
  {
   "cell_type": "code",
   "execution_count": 7,
   "metadata": {},
   "outputs": [],
   "source": [
    "# Define the likelihood\n",
    "def likelihood_fun(params, draws=50):\n",
    "    return RNG.normal(loc=params, size=(draws, params.shape[0]))\n",
    "simulator = bf.simulation.Simulator(simulator_fun=likelihood_fun)"
   ]
  },
  {
   "cell_type": "code",
   "execution_count": 9,
   "metadata": {},
   "outputs": [
    {
     "name": "stderr",
     "output_type": "stream",
     "text": [
      "INFO:root:Performing 2 pilot runs with the anonymous model...\n",
      "INFO:root:Shape of parameter batch after 2 pilot simulations: (batch_size = 2, 4)\n",
      "INFO:root:Shape of simulation batch after 2 pilot simulations: (batch_size = 2, 50, 4)\n",
      "INFO:root:No optional prior non-batchable context provided.\n",
      "INFO:root:No optional prior batchable context provided.\n",
      "INFO:root:No optional simulation non-batchable context provided.\n",
      "INFO:root:No optional simulation batchable context provided.\n"
     ]
    }
   ],
   "source": [
    "model = bf.simulation.GenerativeModel(prior=prior, simulator=simulator)"
   ]
  },
  {
   "cell_type": "code",
   "execution_count": null,
   "metadata": {},
   "outputs": [],
   "source": [
    "summary_net = bf.networks.DeepSet(summary_dim=10)\n",
    "inference_net = bf.networks.InvertibleNetwork(\n",
    "    num_params=4, num_coupling_layers=4\n",
    ")"
   ]
  }
 ],
 "metadata": {
  "kernelspec": {
   "display_name": ".venv",
   "language": "python",
   "name": "python3"
  },
  "language_info": {
   "codemirror_mode": {
    "name": "ipython",
    "version": 3
   },
   "file_extension": ".py",
   "mimetype": "text/x-python",
   "name": "python",
   "nbconvert_exporter": "python",
   "pygments_lexer": "ipython3",
   "version": "3.10.9"
  }
 },
 "nbformat": 4,
 "nbformat_minor": 2
}
