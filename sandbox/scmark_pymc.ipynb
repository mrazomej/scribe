{
 "cells": [
  {
   "cell_type": "code",
   "execution_count": null,
   "metadata": {},
   "outputs": [],
   "source": [
    "import pymc as pm\n",
    "import pytensor.tensor as pt\n",
    "import numpy as np\n",
    "import pandas as pd\n",
    "import arviz as az\n",
    "import matplotlib.pyplot as plt\n",
    "import seaborn as sns\n",
    "import scanpy as sc\n",
    "import glob\n",
    "\n",
    "from utils import matplotlib_style\n",
    "cor, pal = matplotlib_style()\n",
    "\n",
    "# Set random seed\n",
    "RANDOM_SEED = 42\n",
    "rng = np.random.default_rng(RANDOM_SEED)"
   ]
  },
  {
   "cell_type": "markdown",
   "metadata": {},
   "source": [
    "# Single-cell RNA-seq \"MNIST\" dataset"
   ]
  },
  {
   "cell_type": "markdown",
   "metadata": {},
   "source": [
    "In this notebook, we will explore the inference over a [recently\n",
    "published](https://www.biorxiv.org/content/10.1101/2021.12.08.471773v1) dataset\n",
    "aiming to mimic the MNIST dataset in the single-cell RNA-seq space. The details\n",
    "of the dataset do not matter much for the purpose of this notebook. The key is\n",
    "to get a sense of the type of data that we are dealing with.\n",
    "\n",
    "The dataset is provided in `h5ad` format and can be downloaded from [this Zenodo\n",
    "repository](https://zenodo.org/records/7795653). Let's start by listing the\n",
    "available files in the dataset."
   ]
  },
  {
   "cell_type": "code",
   "execution_count": null,
   "metadata": {},
   "outputs": [],
   "source": [
    "# List all files in the data directory\n",
    "files = glob.glob(\"../data/scmark_v2/scmark_v2/*.h5ad\")\n",
    "\n",
    "files"
   ]
  },
  {
   "cell_type": "markdown",
   "metadata": {},
   "source": [
    "Since we have no specific interest in the dataset itself, we can pick one of\n",
    "the datasets at random and use it for the purpose of this notebook. Let's load\n",
    "one of these datasets."
   ]
  },
  {
   "cell_type": "code",
   "execution_count": null,
   "metadata": {},
   "outputs": [],
   "source": [
    "# Load the first file\n",
    "data = sc.read_h5ad(files[0])\n",
    "\n",
    "data"
   ]
  },
  {
   "cell_type": "markdown",
   "metadata": {},
   "source": [
    "The dataset contains 10,003 cells and 33,515 unique genes. Let's extract the \n",
    "data into a DataFrame."
   ]
  },
  {
   "cell_type": "code",
   "execution_count": null,
   "metadata": {},
   "outputs": [],
   "source": [
    "# Extract the counts into a pandas dataframe\n",
    "df_counts = pd.DataFrame(\n",
    "    data.X.toarray(),\n",
    "    columns=data.var.gene,\n",
    "    index=data.obs.index\n",
    ")\n",
    "\n",
    "print(df_counts.shape)\n",
    "df_counts.head()"
   ]
  },
  {
   "cell_type": "markdown",
   "metadata": {},
   "source": [
    "Let's look at a few example ECDFs from the dataset. We will select a few genes\n",
    "based on their mean count and plot the ECDFs for these genes."
   ]
  },
  {
   "cell_type": "code",
   "execution_count": null,
   "metadata": {},
   "outputs": [],
   "source": [
    "# Define number of genes to select\n",
    "n_genes = 9\n",
    "\n",
    "# Compute the mean expression of each gene and sort them\n",
    "df_mean = df_counts.mean().sort_values(ascending=False)\n",
    "\n",
    "# Remove all genes with mean expression less than 1\n",
    "df_mean = df_mean[df_mean > 1]\n",
    "\n",
    "# Generate logarithmically spaced indices\n",
    "log_indices = np.logspace(\n",
    "    0, np.log10(len(df_mean) - 1), num=n_genes, dtype=int\n",
    ")\n",
    "\n",
    "# Select genes using the logarithmically spaced indices\n",
    "genes = df_mean.iloc[log_indices].index\n",
    "\n",
    "df_mean[genes]"
   ]
  },
  {
   "cell_type": "markdown",
   "metadata": {},
   "source": [
    "Let's now plot the ECDFs for these genes."
   ]
  },
  {
   "cell_type": "code",
   "execution_count": null,
   "metadata": {},
   "outputs": [],
   "source": [
    "# Initialize figure\n",
    "fig, ax = plt.subplots(1, 1, figsize=(2, 1.5))\n",
    "\n",
    "# Define step size for ECDF\n",
    "step = 1\n",
    "\n",
    "# Loop throu each gene\n",
    "for (i, gene) in enumerate(genes):\n",
    "    # Plot the ECDF for each column in the DataFrame\n",
    "    sns.ecdfplot(\n",
    "        data=df_counts,\n",
    "        x=gene,\n",
    "        ax=ax,\n",
    "        color=sns.color_palette('Blues', n_colors=n_genes)[i],\n",
    "        label=np.round(df_mean[gene], 0).astype(int),\n",
    "        lw=1\n",
    "    )\n",
    "\n",
    "# Set x-axis to log scale\n",
    "ax.set_xscale('log')\n",
    "\n",
    "# Add axis labels\n",
    "ax.set_xlabel('UMI count')\n",
    "ax.set_ylabel('ECDF')\n",
    "\n",
    "# Add legend\n",
    "ax.legend(loc='lower right', fontsize=4, title=r\"$\\langle U \\rangle$\")"
   ]
  },
  {
   "cell_type": "markdown",
   "metadata": {},
   "source": [
    "This seems like a good representative sample of the data."
   ]
  },
  {
   "cell_type": "markdown",
   "metadata": {},
   "source": [
    "## Negative Binomial-Dirichlet-Multinomial model"
   ]
  },
  {
   "cell_type": "markdown",
   "metadata": {},
   "source": [
    "Let's write this model in `PyMC`. First we define the data."
   ]
  },
  {
   "cell_type": "code",
   "execution_count": null,
   "metadata": {},
   "outputs": [],
   "source": [
    "# Define total number of counts per cell as the sum per row\n",
    "U_cells = df_counts[genes].sum(axis=1).values\n",
    "\n",
    "# Define counts per cell\n",
    "u_cells = df_counts[genes].values"
   ]
  },
  {
   "cell_type": "markdown",
   "metadata": {},
   "source": [
    "Now we define a `pm.Model`."
   ]
  },
  {
   "cell_type": "code",
   "execution_count": null,
   "metadata": {},
   "outputs": [],
   "source": [
    "# Set model\n",
    "with pm.Model() as scmark_negbin_dirmult:\n",
    "    # Define prior on p\n",
    "    p = pm.Beta('p', alpha=1, beta=1)\n",
    "    # Define prior on all r parameters\n",
    "    r_vec = pm.Gamma('r', alpha=2, beta=2, shape=n_genes)\n",
    "\n",
    "    # Sum of r parameters\n",
    "    r_o = pm.math.sum(r_vec)\n",
    "\n",
    "    # Likelihood for Total observed counts\n",
    "    U = pm.NegativeBinomial(\"U\", p=p, alpha=r_o, observed=U_cells)\n",
    "\n",
    "    # Use Dirichlet-Multinomial distribution for observed counts\n",
    "    u_vec = pm.DirichletMultinomial(\n",
    "        \"umi_counts\", n=U, a=r_vec, observed=u_cells\n",
    "    )"
   ]
  },
  {
   "cell_type": "markdown",
   "metadata": {},
   "source": [
    "Now, we can sample from the posterior using the NUTS sampler."
   ]
  },
  {
   "cell_type": "code",
   "execution_count": null,
   "metadata": {},
   "outputs": [],
   "source": [
    "# Perform MCMC sampling with 4 chains\n",
    "with scmark_negbin_dirmult:\n",
    "    trace = pm.sample(1000, tune=4000, chains=4, cores=4)"
   ]
  },
  {
   "cell_type": "markdown",
   "metadata": {},
   "source": [
    "Let's look at the traces to make sure everything looks good."
   ]
  },
  {
   "cell_type": "code",
   "execution_count": null,
   "metadata": {},
   "outputs": [],
   "source": [
    "# Plot trace\n",
    "az.plot_trace(trace, compact=False)\n",
    "\n",
    "plt.tight_layout()"
   ]
  },
  {
   "cell_type": "markdown",
   "metadata": {},
   "source": [
    "All chains seem to have converged. Let's look at the corner plot."
   ]
  },
  {
   "cell_type": "code",
   "execution_count": null,
   "metadata": {},
   "outputs": [],
   "source": [
    "# Plot corner plot\n",
    "axes = az.plot_pair(\n",
    "    trace, var_names=['p', 'r'], kind=\"scatter\", marginals=True\n",
    ")"
   ]
  },
  {
   "cell_type": "markdown",
   "metadata": {},
   "source": [
    "Let's now sample from the posterior predictive distribution."
   ]
  },
  {
   "cell_type": "code",
   "execution_count": null,
   "metadata": {},
   "outputs": [],
   "source": [
    "with scmark_negbin_dirmult:\n",
    "    post_pred_check_dm = pm.sample_posterior_predictive(trace)"
   ]
  },
  {
   "cell_type": "markdown",
   "metadata": {},
   "source": [
    "Having these posterior predictive (retrodictive) checks in place allows us to\n",
    "compare the model's predictions with the observed data. Let's plot the ECDFs for\n",
    "the total mRNA count."
   ]
  },
  {
   "cell_type": "code",
   "execution_count": null,
   "metadata": {},
   "outputs": [],
   "source": [
    "# Initialize figure\n",
    "fig, ax = plt.subplots(1, 1, figsize=(1.5, 1.5))\n",
    "\n",
    "# Define number of samples to plot\n",
    "n_samples = 200\n",
    "\n",
    "# Pick first dimension random indexes\n",
    "x_idx = rng.choice(\n",
    "    np.arange(post_pred_check_dm.posterior_predictive.U.values.shape[0]),\n",
    "    size=n_samples\n",
    ")\n",
    "# Pick second dimension random indexes\n",
    "y_idx = rng.choice(\n",
    "    np.arange(post_pred_check_dm.posterior_predictive.U.values.shape[1]),\n",
    "    size=n_samples\n",
    ")\n",
    "\n",
    "# Loop through samples\n",
    "for i in range(n_samples):\n",
    "    # Plot ECDF of the posterior predictive checks total counts\n",
    "    sns.ecdfplot(\n",
    "        post_pred_check_dm.posterior_predictive.U.values[x_idx[i], y_idx[i], :],\n",
    "        ax=ax,\n",
    "        color=cor['pale_blue'],\n",
    "        alpha=0.1\n",
    "    )\n",
    "\n",
    "# Plot ECDF of the real data total counts\n",
    "sns.ecdfplot(\n",
    "    U_cells,\n",
    "    ax=ax,\n",
    "    label='data',\n",
    ")\n",
    "\n",
    "# Set x-axis to log scale\n",
    "ax.set_xscale('log')\n",
    "\n",
    "# Label axis\n",
    "ax.set_xlabel('total counts')\n",
    "ax.set_ylabel('ECDF')\n",
    "\n",
    "plt.tight_layout()"
   ]
  },
  {
   "cell_type": "code",
   "execution_count": null,
   "metadata": {},
   "outputs": [],
   "source": [
    "# Initialize figure\n",
    "fig, axes = plt.subplots(3, 3, figsize=(5, 5))\n",
    "\n",
    "# Flatten axes\n",
    "axes = axes.flatten()\n",
    "\n",
    "# Define number of samples to plot\n",
    "n_samples = 200\n",
    "\n",
    "# Pick first dimension random indexes\n",
    "x_idx = rng.choice(\n",
    "    np.arange(post_pred_check_dm.posterior_predictive.U.values.shape[0]),\n",
    "    size=n_samples\n",
    ")\n",
    "# Pick second dimension random indexes\n",
    "y_idx = rng.choice(\n",
    "    np.arange(post_pred_check_dm.posterior_predictive.U.values.shape[1]),\n",
    "    size=n_samples\n",
    ")\n",
    "\n",
    "# Loop through each gene\n",
    "for (i, ax) in enumerate(axes):\n",
    "    # Loop through samples\n",
    "    for j in range(n_samples):\n",
    "        # Plot ECDF of the posterior predictive checks total counts\n",
    "        sns.ecdfplot(\n",
    "            post_pred_check_dm.posterior_predictive.umi_counts.values[x_idx[j],\n",
    "                                                                      y_idx[j],\n",
    "                                                                      :, i],\n",
    "            ax=ax,\n",
    "            color=cor['pale_blue'],\n",
    "            alpha=0.1\n",
    "        )\n",
    "    # Plot ECDF of the real data total counts\n",
    "    sns.ecdfplot(\n",
    "        u_cells[:, i],\n",
    "        ax=ax,\n",
    "        label='data',\n",
    "    )\n",
    "    # Label axis\n",
    "    ax.set_xlabel('counts')\n",
    "    ax.set_ylabel('ECDF')\n",
    "    # Set title\n",
    "    ax.set_title(genes[i])\n",
    "    # Set x-axis to log scale\n",
    "    ax.set_xscale('log')\n",
    "\n",
    "    # Add legend\n",
    "    ax.legend(loc='lower right', fontsize=4)\n",
    "\n",
    "\n",
    "plt.tight_layout()"
   ]
  },
  {
   "cell_type": "markdown",
   "metadata": {},
   "source": [
    "This is not an ideal fit. Let's compare this with a model in which each gene is\n",
    "fit to a completely independent negative binomial distribution."
   ]
  },
  {
   "cell_type": "code",
   "execution_count": null,
   "metadata": {},
   "outputs": [],
   "source": [
    "# Set model\n",
    "with pm.Model() as scmark_negbins:\n",
    "    # Define prior on p\n",
    "    p_vec = pm.Beta('p', alpha=1, beta=1, shape=n_genes)\n",
    "    # Define prior on all r parameters\n",
    "    r_vec = pm.Gamma('r', alpha=2, beta=2, shape=n_genes)\n",
    "\n",
    "    # Use Negative Binomial distribution for observed counts\n",
    "    u_vec = pm.NegativeBinomial(\n",
    "        \"umi_counts\",\n",
    "        p=p_vec,\n",
    "        alpha=r_vec,\n",
    "        shape=(len(u_cells), n_genes),\n",
    "        observed=u_cells\n",
    "    )"
   ]
  },
  {
   "cell_type": "markdown",
   "metadata": {},
   "source": [
    "Let's now sample from the posterior of this model."
   ]
  },
  {
   "cell_type": "code",
   "execution_count": null,
   "metadata": {},
   "outputs": [],
   "source": [
    "# Perform MCMC sampling with 4 chains\n",
    "with scmark_negbins:\n",
    "    trace_nb = pm.sample(1000, tune=4000, chains=4, cores=4)"
   ]
  },
  {
   "cell_type": "code",
   "execution_count": null,
   "metadata": {},
   "outputs": [],
   "source": [
    "# Plot trace\n",
    "az.plot_trace(trace_nb, compact=False)\n",
    "\n",
    "plt.tight_layout()"
   ]
  },
  {
   "cell_type": "code",
   "execution_count": null,
   "metadata": {},
   "outputs": [],
   "source": [
    "# Plot corner plot\n",
    "axes = az.plot_pair(\n",
    "    trace_nb, var_names=['p', 'r'], kind=\"scatter\", marginals=True\n",
    ")"
   ]
  },
  {
   "cell_type": "code",
   "execution_count": null,
   "metadata": {},
   "outputs": [],
   "source": [
    "with scmark_negbins:\n",
    "    post_pred_check_nb = pm.sample_posterior_predictive(trace_nb)"
   ]
  },
  {
   "cell_type": "code",
   "execution_count": null,
   "metadata": {},
   "outputs": [],
   "source": [
    "# Initialize figure\n",
    "fig, axes = plt.subplots(3, 3, figsize=(5, 5))\n",
    "\n",
    "# Flatten axes\n",
    "axes = axes.flatten()\n",
    "\n",
    "# Define number of samples to plot\n",
    "n_samples = 200\n",
    "\n",
    "# Pick first dimension random indexes\n",
    "x_idx = rng.choice(\n",
    "    np.arange(\n",
    "        post_pred_check_nb.posterior_predictive.umi_counts.values.shape[0]),\n",
    "    size=n_samples\n",
    ")\n",
    "# Pick second dimension random indexes\n",
    "y_idx = rng.choice(\n",
    "    np.arange(\n",
    "        post_pred_check_nb.posterior_predictive.umi_counts.values.shape[1]),\n",
    "    size=n_samples\n",
    ")\n",
    "\n",
    "# Loop through each gene\n",
    "for (i, ax) in enumerate(axes):\n",
    "    # Loop through samples\n",
    "    for j in range(n_samples):\n",
    "        # Plot ECDF of the posterior predictive checks total counts\n",
    "        sns.ecdfplot(\n",
    "            post_pred_check_nb.posterior_predictive.umi_counts.values[x_idx[j],\n",
    "                                                                      y_idx[j],\n",
    "                                                                      :, i],\n",
    "            ax=ax,\n",
    "            color=cor['pale_blue'],\n",
    "            alpha=0.1\n",
    "        )\n",
    "    # Plot ECDF of the real data total counts\n",
    "    sns.ecdfplot(\n",
    "        u_cells[:, i],\n",
    "        ax=ax,\n",
    "        label='data',\n",
    "    )\n",
    "    # Label axis\n",
    "    ax.set_xlabel('counts')\n",
    "    ax.set_ylabel('ECDF')\n",
    "    # Set title\n",
    "    ax.set_title(genes[i])\n",
    "    # Set x-axis to log scale\n",
    "    ax.set_xscale('log')\n",
    "\n",
    "    # Add legend\n",
    "    ax.legend(loc='lower right', fontsize=4)\n",
    "\n",
    "\n",
    "plt.tight_layout()"
   ]
  },
  {
   "cell_type": "code",
   "execution_count": null,
   "metadata": {},
   "outputs": [],
   "source": [
    "# Initialize figure\n",
    "fig, axes = plt.subplots(3, 3, figsize=(5, 5))\n",
    "\n",
    "# Flatten axes\n",
    "axes = axes.flatten()\n",
    "\n",
    "# Define number of samples to plot\n",
    "n_samples = 200\n",
    "\n",
    "# Pick first dimension random indexes\n",
    "x_idx = rng.choice(\n",
    "    np.arange(\n",
    "        post_pred_check_nb.posterior_predictive.umi_counts.values.shape[0]),\n",
    "    size=n_samples\n",
    ")\n",
    "# Pick second dimension random indexes\n",
    "y_idx = rng.choice(\n",
    "    np.arange(\n",
    "        post_pred_check_nb.posterior_predictive.umi_counts.values.shape[1]),\n",
    "    size=n_samples\n",
    ")\n",
    "\n",
    "# Loop through each gene\n",
    "for (i, ax) in enumerate(axes):\n",
    "    # Loop through samples\n",
    "    for j in range(n_samples):\n",
    "        # Plot ECDF of the posterior predictive checks total counts\n",
    "        sns.ecdfplot(\n",
    "            post_pred_check_dm.posterior_predictive.umi_counts.values[x_idx[j],\n",
    "                                                                      y_idx[j],\n",
    "                                                                      :, i],\n",
    "            ax=ax,\n",
    "            color=cor['pale_blue'],\n",
    "            alpha=0.1\n",
    "        )\n",
    "        sns.ecdfplot(\n",
    "            post_pred_check_nb.posterior_predictive.umi_counts.values[x_idx[j],\n",
    "                                                                      y_idx[j],\n",
    "                                                                      :, i],\n",
    "            ax=ax,\n",
    "            color=cor['pale_red'],\n",
    "            alpha=0.1\n",
    "        )\n",
    "    # Plot ECDF of the real data total counts\n",
    "    sns.ecdfplot(\n",
    "        u_cells[:, i],\n",
    "        ax=ax,\n",
    "        label='data',\n",
    "    )\n",
    "    # Label axis\n",
    "    ax.set_xlabel('counts')\n",
    "    ax.set_ylabel('ECDF')\n",
    "    # Set title\n",
    "    ax.set_title(genes[i])\n",
    "    # Set x-axis to log scale\n",
    "    ax.set_xscale('log')\n",
    "\n",
    "    # Set fake plots not plotting anything for the legend\n",
    "    ax.plot([], [], color=cor['pale_blue'], label='NegBin-DirMult')\n",
    "    ax.plot([], [], color=cor['pale_red'], label='NegBins')\n",
    "\n",
    "    # Add legend\n",
    "    ax.legend(loc='lower right', fontsize=4)\n",
    "\n",
    "\n",
    "plt.tight_layout()"
   ]
  },
  {
   "cell_type": "code",
   "execution_count": null,
   "metadata": {},
   "outputs": [],
   "source": []
  }
 ],
 "metadata": {
  "kernelspec": {
   "display_name": "scrappy-jDg5b02t-py3.11",
   "language": "python",
   "name": "python3"
  },
  "language_info": {
   "codemirror_mode": {
    "name": "ipython",
    "version": 3
   },
   "file_extension": ".py",
   "mimetype": "text/x-python",
   "name": "python",
   "nbconvert_exporter": "python",
   "pygments_lexer": "ipython3",
   "version": "3.11.8"
  }
 },
 "nbformat": 4,
 "nbformat_minor": 2
}
