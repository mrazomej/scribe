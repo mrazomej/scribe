{
 "cells": [
  {
   "cell_type": "markdown",
   "metadata": {},
   "source": [
    "(c) 2025 Manuel Razo. This work is licensed under a [Creative Commons\n",
    "Attribution License CC-BY 4.0](https://creativecommons.org/licenses/by/4.0/).\n",
    "All code contained herein is licensed under an [MIT\n",
    "license](https://opensource.org/licenses/MIT)."
   ]
  },
  {
   "cell_type": "code",
   "execution_count": null,
   "metadata": {},
   "outputs": [],
   "source": [
    "# Import base libraries\n",
    "import os\n",
    "import glob\n",
    "import gc\n",
    "import pickle\n",
    "\n",
    "# Import JAX-related libraries\n",
    "import jax\n",
    "from jax import random\n",
    "import jax.numpy as jnp\n",
    "from numpyro.optim import Adam\n",
    "import numpyro\n",
    "\n",
    "# Import numpy for array manipulation\n",
    "import numpy as np\n",
    "# Import statsmodels for statistical modeling\n",
    "import statsmodels.api as sm\n",
    "from statsmodels.discrete.discrete_model import NegativeBinomial\n",
    "# Import scipy for special functions\n",
    "import scipy as sp\n",
    "# Import library to load h5ad files\n",
    "import anndata as ad\n",
    "# Import pandas for data manipulation\n",
    "import pandas as pd\n",
    "# Import scribe\n",
    "import scribe\n",
    "# Import plotting libraries\n",
    "import matplotlib.pyplot as plt\n",
    "import seaborn as sns\n",
    "# Set plotting style\n",
    "scribe.viz.matplotlib_style()\n",
    "\n",
    "# Import colors\n",
    "color_palette = scribe.viz.colors()"
   ]
  },
  {
   "cell_type": "markdown",
   "metadata": {},
   "source": [
    "# Exploratory data analysis of `scMark` datasets"
   ]
  },
  {
   "cell_type": "markdown",
   "metadata": {},
   "source": [
    "In this notebook, we will perform an exploratory data analysis of the datasets\n",
    "provided in the `scMark` paper. "
   ]
  },
  {
   "cell_type": "markdown",
   "metadata": {},
   "source": [
    "Let's begin by listing the files in the `scMark` dataset directory."
   ]
  },
  {
   "cell_type": "code",
   "execution_count": null,
   "metadata": {},
   "outputs": [],
   "source": [
    "# Define data directory\n",
    "DATA_DIR = \"/app/data/scmark_v2/scmark_v2\"\n",
    "\n",
    "# List all files in the data directory\n",
    "files = glob.glob(os.path.join(DATA_DIR, \"*.h5ad\"))\n",
    "\n",
    "files"
   ]
  },
  {
   "cell_type": "markdown",
   "metadata": {},
   "source": [
    "One aspect we care abuot is the number of cell types in each dataset. This \n",
    "information is stored in the `obs` attribute of the `AnnData` object under the\n",
    "`standard_true_celltype` column. \n",
    "\n",
    "Let's extract this information for each dataset."
   ]
  },
  {
   "cell_type": "code",
   "execution_count": null,
   "metadata": {},
   "outputs": [],
   "source": [
    "# Initialize dictionary to store the number of cell types\n",
    "n_cell_types = {}\n",
    "\n",
    "# Loop over the files\n",
    "for file in files:\n",
    "    # Load the data\n",
    "    data = ad.read_h5ad(file)\n",
    "\n",
    "    # Extract the number of cell types\n",
    "    n_cell_types[file] = {\n",
    "        \"n_cell_types\": len(data.obs[\"standard_true_celltype\"].unique()),\n",
    "        \"n_cells\": data.n_obs,\n",
    "    }\n",
    "\n",
    "n_cell_types"
   ]
  },
  {
   "cell_type": "markdown",
   "metadata": {},
   "source": [
    "So the number of cell types ranges from 8 to 17 or so."
   ]
  },
  {
   "cell_type": "markdown",
   "metadata": {},
   "source": [
    "Another interesting aspect to look into is the distirbution of UMI counts per\n",
    "cell for each dataset. Let's extract this information for each dataset."
   ]
  },
  {
   "cell_type": "code",
   "execution_count": 17,
   "metadata": {},
   "outputs": [],
   "source": [
    "# Initialize dictionary to store the number of cell types\n",
    "n_umi_counts = {}\n",
    "\n",
    "# Loop over the files\n",
    "for file in files:\n",
    "    # Load the data\n",
    "    data = ad.read_h5ad(file)\n",
    "\n",
    "    # Extract the number of cell types\n",
    "    n_umi_counts[file] = data.X.sum(axis=1).A1"
   ]
  },
  {
   "cell_type": "markdown",
   "metadata": {},
   "source": [
    "Let's now plot the ECDF of the UMI counts for each dataset."
   ]
  },
  {
   "cell_type": "code",
   "execution_count": null,
   "metadata": {},
   "outputs": [],
   "source": [
    "# Initialize figure\n",
    "fig, ax = plt.subplots(1, 2,figsize=(6.5, 3.5))\n",
    "\n",
    "# Plot the ECDF of the UMI counts for each dataset\n",
    "for file in files:\n",
    "    sns.ecdfplot(n_umi_counts[file], label=file, ax=ax[0])\n",
    "    sns.ecdfplot(n_umi_counts[file], label=file, ax=ax[1])\n",
    "\n",
    "# Set second plot to log scale\n",
    "ax[1].set_xscale(\"log\")\n",
    "\n",
    "# Set plot title and labels\n",
    "ax[0].set_xlabel(\"total UMI counts\")\n",
    "ax[0].set_ylabel(\"ECDF\")\n",
    "\n",
    "ax[1].set_xlabel(\"total UMI counts (log scale)\")\n",
    "ax[1].set_ylabel(\"ECDF\")\n",
    "\n",
    "# Set y-limit\n",
    "ax[0].set_ylim(-0.02, 1.02)\n",
    "ax[1].set_ylim(-0.02, 1.02)\n",
    "\n",
    "# Set global title\n",
    "fig.suptitle(\"total UMI counts per cell\")\n",
    "\n",
    "plt.tight_layout()\n"
   ]
  },
  {
   "cell_type": "markdown",
   "metadata": {},
   "source": [
    "It seems that for all datasets, the variability in total UMI counts can be around one order of magnitude, if not more."
   ]
  }
 ],
 "metadata": {
  "kernelspec": {
   "display_name": "Python 3",
   "language": "python",
   "name": "python3"
  },
  "language_info": {
   "codemirror_mode": {
    "name": "ipython",
    "version": 3
   },
   "file_extension": ".py",
   "mimetype": "text/x-python",
   "name": "python",
   "nbconvert_exporter": "python",
   "pygments_lexer": "ipython3",
   "version": "3.10.12"
  }
 },
 "nbformat": 4,
 "nbformat_minor": 2
}
