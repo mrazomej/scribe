{
 "cells": [
  {
   "cell_type": "markdown",
   "metadata": {},
   "source": [
    "(c) 2025 Manuel Razo. This work is licensed under a [Creative Commons\n",
    "Attribution License CC-BY 4.0](https://creativecommons.org/licenses/by/4.0/).\n",
    "All code contained herein is licensed under an [MIT\n",
    "license](https://opensource.org/licenses/MIT)."
   ]
  },
  {
   "cell_type": "code",
   "execution_count": 31,
   "metadata": {},
   "outputs": [],
   "source": [
    "# Import base libraries\n",
    "import os\n",
    "import glob\n",
    "import gc\n",
    "import pickle\n",
    "import warnings\n",
    "\n",
    "# Import JAX-related libraries\n",
    "import jax\n",
    "from jax import random\n",
    "import jax.numpy as jnp\n",
    "from numpyro.optim import Adam\n",
    "import numpyro\n",
    "\n",
    "# Import numpy for array manipulation\n",
    "import numpy as np\n",
    "# Import statsmodels for statistical modeling\n",
    "import statsmodels.api as sm\n",
    "from statsmodels.discrete.discrete_model import NegativeBinomial\n",
    "# Import scipy for special functions\n",
    "import scipy as sp\n",
    "# Import library to load h5ad files\n",
    "import scanpy as sc\n",
    "# Import pandas for data manipulation\n",
    "import pandas as pd\n",
    "# Import scribe\n",
    "import scribe\n",
    "# Import plotting libraries\n",
    "import matplotlib.pyplot as plt\n",
    "import seaborn as sns\n",
    "# Set plotting style\n",
    "scribe.viz.matplotlib_style()\n",
    "\n",
    "# Import colors\n",
    "color_palette = scribe.viz.colors()"
   ]
  },
  {
   "cell_type": "markdown",
   "metadata": {},
   "source": [
    "# Exploratory data analysis of `Zebrahub` datasets"
   ]
  },
  {
   "cell_type": "markdown",
   "metadata": {},
   "source": [
    "In this notebook, we will perform an exploratory data analysis of the datasets\n",
    "used in the `Zebrahub` paper. This will give us a sense of the raw data."
   ]
  },
  {
   "cell_type": "markdown",
   "metadata": {},
   "source": [
    "## Raw counts exploratory data analysis"
   ]
  },
  {
   "cell_type": "markdown",
   "metadata": {},
   "source": [
    "Let's begin by listing the raw count files."
   ]
  },
  {
   "cell_type": "code",
   "execution_count": null,
   "metadata": {},
   "outputs": [],
   "source": [
    "# Define data directory\n",
    "DATA_DIR = f\"{scribe.utils.git_root()}/data/zebrahub/count_matrices/*\"\n",
    "\n",
    "# List all files in the data directory\n",
    "files = sorted(glob.glob(f\"{DATA_DIR}/*bc_matrix.h5\", recursive=True))\n",
    "\n",
    "files"
   ]
  },
  {
   "cell_type": "markdown",
   "metadata": {},
   "source": [
    "Let's take a look at the first few rows of the one of the files."
   ]
  },
  {
   "cell_type": "code",
   "execution_count": null,
   "metadata": {},
   "outputs": [],
   "source": [
    "# Silence warnings\n",
    "with warnings.catch_warnings():\n",
    "    warnings.simplefilter(\"ignore\")\n",
    "\n",
    "    # Read the gzipped file\n",
    "    data = sc.read_10x_h5(files[0])\n",
    "\n",
    "# Extract the data as a pandas DataFrame\n",
    "df = data.to_df()\n",
    "\n",
    "# Print shape\n",
    "print(df.shape[0])\n",
    "\n",
    "# Take a look at the first few rows\n",
    "df.head()"
   ]
  },
  {
   "cell_type": "markdown",
   "metadata": {},
   "source": [
    "Let's plot the distribution of total counts per cell."
   ]
  },
  {
   "cell_type": "code",
   "execution_count": null,
   "metadata": {},
   "outputs": [],
   "source": [
    "# Initialize figure\n",
    "fig, axes = plt.subplots(1, 2, figsize=(6, 3))\n",
    "\n",
    "# Compute total counts per cell removing the first column (gene names)\n",
    "total_counts = df.sum(axis=1)\n",
    "\n",
    "# Plot the distribution of total counts per cell\n",
    "sns.histplot(total_counts, ax=axes[0], color=color_palette['blue'])\n",
    "sns.ecdfplot(total_counts, ax=axes[1], color=color_palette['blue'])\n",
    "\n",
    "# Set title and labels\n",
    "axes[0].set_xlabel('total UMI counts')\n",
    "axes[0].set_ylabel('# cells')\n",
    "axes[1].set_xlabel('total UMI counts')\n",
    "axes[1].set_ylabel('ECDF')\n",
    "\n",
    "# Set x-scale to log\n",
    "axes[0].set_xscale('log')\n",
    "axes[1].set_xscale('log')\n",
    "\n",
    "plt.tight_layout()"
   ]
  },
  {
   "cell_type": "markdown",
   "metadata": {},
   "source": [
    "This distribution has a crazy long tail. Most likely, a negative binomial won't\n",
    "fit this distribution well. Nevertheless, let's try to fit a negative binomial\n",
    "to the total counts per cell data."
   ]
  },
  {
   "cell_type": "code",
   "execution_count": null,
   "metadata": {},
   "outputs": [],
   "source": [
    "# Fit Negative Binomial model\n",
    "model = NegativeBinomial(total_counts.values, np.ones_like(total_counts.values))\n",
    "result = model.fit()"
   ]
  },
  {
   "cell_type": "markdown",
   "metadata": {},
   "source": [
    "Let's compare the fitted distribution with the ECDF of the data."
   ]
  },
  {
   "cell_type": "code",
   "execution_count": null,
   "metadata": {},
   "outputs": [],
   "source": [
    "# Extract parameters (note: statsmodels uses different parameterization)\n",
    "mu = np.exp(result.params[0])  # mean\n",
    "alpha = result.params[1]  # dispersion parameter\n",
    "p = 1 / (1 + mu * alpha)  # convert to p parameter\n",
    "r = 1 / alpha  # convert to r parameter\n",
    "\n",
    "# Initialize figure\n",
    "fig, ax = plt.subplots(1, 1, figsize=(3, 3))\n",
    "\n",
    "# Plot ECDF\n",
    "sns.ecdfplot(total_counts, ax=ax, color=color_palette['blue'])\n",
    "\n",
    "# Add the fitted distribution\n",
    "x = np.arange(0, np.max(total_counts), 1)\n",
    "\n",
    "# Calculate PMF and CDF\n",
    "cdf = sp.stats.nbinom.cdf(x, n=r, p=p)\n",
    "\n",
    "# Plot PMF and CDF\n",
    "ax.plot(x, cdf, color=color_palette['dark_red'], label='Negative Binomial')\n",
    "\n",
    "# Set title and labels\n",
    "ax.set_xlabel('total UMI counts')\n",
    "ax.set_ylabel('ECDF')\n",
    "\n",
    "# Set x-scale to log\n",
    "ax.set_xscale('log')\n",
    "\n",
    "# Set y-scale limits\n",
    "ax.set_ylim(-0.015, 1.015)\n",
    "\n",
    "# Set left x-limit to minimum value of total counts\n",
    "ax.set_xlim(total_counts.min(), np.max(total_counts))\n",
    "\n",
    "plt.tight_layout()"
   ]
  },
  {
   "cell_type": "markdown",
   "metadata": {},
   "source": [
    "The fit is not terrible, but the parameter values are very extreme."
   ]
  },
  {
   "cell_type": "markdown",
   "metadata": {},
   "source": [
    "Let's now compute the total counts per cell for all the files to then plot the\n",
    "ECDF."
   ]
  },
  {
   "cell_type": "code",
   "execution_count": null,
   "metadata": {},
   "outputs": [],
   "source": [
    "# Initialize dictionary to store total counts per cell\n",
    "total_counts_dict = {}\n",
    "\n",
    "# Loop over all files\n",
    "for i, file in enumerate(files):\n",
    "    # Print progress\n",
    "    if i % 10 == 0:\n",
    "        print(f\"Processing file {i+1} of {len(files)}\")\n",
    "\n",
    "    # Silence warnings\n",
    "    with warnings.catch_warnings():\n",
    "        warnings.simplefilter(\"ignore\")\n",
    "\n",
    "        # Read the file\n",
    "        data = sc.read_10x_h5(file)\n",
    "\n",
    "    # Extract the data as a pandas DataFrame\n",
    "    df = data.to_df()\n",
    "\n",
    "    # Compute total counts per cell removing the first column (gene names)\n",
    "    total_counts = df.sum(axis=1)\n",
    "\n",
    "    # Store the total counts in the dictionary\n",
    "    total_counts_dict[file] = total_counts"
   ]
  },
  {
   "cell_type": "markdown",
   "metadata": {},
   "source": [
    "Now, let's plot the ECDF of the total counts per cell for all the files."
   ]
  },
  {
   "cell_type": "code",
   "execution_count": null,
   "metadata": {},
   "outputs": [],
   "source": [
    "# Initialize figure\n",
    "fig, axes = plt.subplots(1, 2, figsize=(6, 3))\n",
    "\n",
    "# Define colors\n",
    "colors = sns.color_palette(\"Set1\")\n",
    "\n",
    "# Loop through keys and values in the dictionary\n",
    "for (file, total_counts), color in zip(total_counts_dict.items(), colors):\n",
    "    sns.ecdfplot(total_counts, ax=axes[0], label=file, color=color)\n",
    "    sns.ecdfplot(total_counts, ax=axes[1], label=file, color=color)\n",
    "\n",
    "# Set title and labels\n",
    "axes[0].set_title('Linear scale')\n",
    "axes[1].set_title('Log scale')\n",
    "axes[0].set_xlabel('total UMI counts per cell')\n",
    "axes[0].set_ylabel('ECDF')\n",
    "axes[1].set_xlabel('total UMI counts per cell')\n",
    "axes[1].set_ylabel('ECDF')\n",
    "\n",
    "# Set 2nd axis to log scale\n",
    "axes[1].set_xscale('log')\n",
    "\n",
    "# Set y-scale limits\n",
    "axes[0].set_ylim(-0.015, 1.015)\n",
    "axes[1].set_ylim(-0.015, 1.015)\n",
    "\n",
    "plt.tight_layout()\n"
   ]
  },
  {
   "cell_type": "markdown",
   "metadata": {},
   "source": [
    "We can see that there's a drastic difference in the total counts per cell between\n",
    "the different datasets. This makes the normalization scheme extremely important\n",
    "to make the datasets comparable."
   ]
  },
  {
   "cell_type": "markdown",
   "metadata": {},
   "source": [
    "Let's now fit a negative binomial distribution to the total counts per cell for\n",
    "each dataset."
   ]
  },
  {
   "cell_type": "code",
   "execution_count": 25,
   "metadata": {},
   "outputs": [],
   "source": [
    "# Initialize dictionary to store parameters\n",
    "params_dict = {}\n",
    "\n",
    "# Loop over total counts per cell\n",
    "for file, total_counts in total_counts_dict.items():\n",
    "    # Fit Negative Binomial model\n",
    "    model = NegativeBinomial(total_counts.values, np.ones_like(total_counts.values))\n",
    "    result = model.fit(disp=False)\n",
    "\n",
    "    # Extract parameters (note: statsmodels uses different parameterization)\n",
    "    mu = np.exp(result.params[0])  # mean\n",
    "    alpha = result.params[1]  # dispersion parameter\n",
    "    p = 1 / (1 + mu * alpha)  # convert to p parameter\n",
    "    r = 1 / alpha  # convert to r parameter\n",
    "\n",
    "    # Store the parameters in the dictionary\n",
    "    params_dict[file] = {'r': r, 'p': p}"
   ]
  },
  {
   "cell_type": "markdown",
   "metadata": {},
   "source": [
    "Now, let's plot the ECDF of the total counts per cell for each dataset and compare\n",
    "the fitted distribution with the ECDF of the data.\n"
   ]
  },
  {
   "cell_type": "code",
   "execution_count": null,
   "metadata": {},
   "outputs": [],
   "source": [
    "# Get number of datasets\n",
    "n_datasets = len(total_counts_dict)\n",
    "\n",
    "# Calculate number of rows and columns needed\n",
    "n_cols = 4  # We'll keep 4 columns\n",
    "n_rows = (n_datasets + n_cols - 1) // n_cols  # Ceiling division to get enough rows\n",
    "\n",
    "# Initialize figure\n",
    "fig, axes = plt.subplots(n_rows, n_cols, figsize=(n_cols * 3, n_rows * 3))\n",
    "\n",
    "# Flatten axes\n",
    "axes = axes.flatten()\n",
    "\n",
    "# Loop over total counts per cell\n",
    "for (i, (file, total_counts)) in enumerate(total_counts_dict.items()):\n",
    "    # Plot ECDF\n",
    "    sns.ecdfplot(total_counts.values, ax=axes[i], color=color_palette['blue'])\n",
    "\n",
    "    # Add the fitted distribution\n",
    "    x = np.arange(0, np.max(total_counts), 1)\n",
    "    # Extract parameters\n",
    "    r = params_dict[file]['r']\n",
    "    p = params_dict[file]['p']\n",
    "\n",
    "    # Calculate PMF and CDF\n",
    "    cdf = sp.stats.nbinom.cdf(x, n=r, p=p)\n",
    "\n",
    "    # Plot PMF and CDF\n",
    "    axes[i].plot(x, cdf, color=color_palette['dark_red'])\n",
    "\n",
    "    # Extract file name\n",
    "    file_name = file.split('/')[-2]\n",
    "\n",
    "    # Add file name as title\n",
    "    axes[i].set_title(file_name)\n",
    "\n",
    "# Hide empty subplots\n",
    "for j in range(i + 1, len(axes)):\n",
    "    axes[j].set_visible(False)\n",
    "\n",
    "plt.tight_layout()"
   ]
  }
 ],
 "metadata": {
  "kernelspec": {
   "display_name": ".venv",
   "language": "python",
   "name": "python3"
  },
  "language_info": {
   "codemirror_mode": {
    "name": "ipython",
    "version": 3
   },
   "file_extension": ".py",
   "mimetype": "text/x-python",
   "name": "python",
   "nbconvert_exporter": "python",
   "pygments_lexer": "ipython3",
   "version": "3.10.12"
  }
 },
 "nbformat": 4,
 "nbformat_minor": 2
}
