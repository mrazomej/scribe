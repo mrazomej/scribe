{
 "cells": [
  {
   "cell_type": "markdown",
   "metadata": {},
   "source": [
    "(c) 2025 Manuel Razo. This work is licensed under a [Creative Commons\n",
    "Attribution License CC-BY 4.0](https://creativecommons.org/licenses/by/4.0/).\n",
    "All code contained herein is licensed under an [MIT\n",
    "license](https://opensource.org/licenses/MIT)."
   ]
  },
  {
   "cell_type": "code",
   "execution_count": null,
   "metadata": {},
   "outputs": [],
   "source": [
    "# Import base libraries\n",
    "import os\n",
    "import glob\n",
    "import gc\n",
    "import pickle\n",
    "\n",
    "# Import JAX-related libraries\n",
    "import jax\n",
    "from jax import random\n",
    "import jax.numpy as jnp\n",
    "from numpyro.optim import Adam\n",
    "import numpyro\n",
    "\n",
    "# Import numpy for array manipulation\n",
    "import numpy as np\n",
    "# Import statsmodels for statistical modeling\n",
    "import statsmodels.api as sm\n",
    "from statsmodels.discrete.discrete_model import NegativeBinomial\n",
    "# Import scipy for special functions\n",
    "import scipy as sp\n",
    "# Import library to load h5ad files\n",
    "import scanpy as sc\n",
    "# Import pandas for data manipulation\n",
    "import pandas as pd\n",
    "# Import scribe\n",
    "import scribe\n",
    "# Import plotting libraries\n",
    "import matplotlib.pyplot as plt\n",
    "import seaborn as sns\n",
    "# Set plotting style\n",
    "scribe.viz.matplotlib_style()\n",
    "\n",
    "# Import colors\n",
    "color_palette = scribe.viz.colors()"
   ]
  },
  {
   "cell_type": "markdown",
   "metadata": {},
   "source": [
    "# Exploratory data analysis of yest single-cell RNA-seq datastes"
   ]
  },
  {
   "cell_type": "markdown",
   "metadata": {},
   "source": [
    "In this notebook, we will explore the single-cell RNA-seqs datasets provided by\n",
    "Annisa Dea from the Pinker lab in U. Chicago."
   ]
  },
  {
   "cell_type": "markdown",
   "metadata": {},
   "source": [
    "## Raw counts exploratory data analysis"
   ]
  },
  {
   "cell_type": "markdown",
   "metadata": {},
   "source": [
    "**2025/02/04**\n",
    "\n",
    "The dataset provided consists of a single `h5ad` file with the following structure. The dataset contains 6 distinct samples:\n",
    "- `Standard1`\n",
    "- `Standard2`\n",
    "- `Standard3`\n",
    "- `Standard4`\n",
    "- `Glucose`\n",
    "- `EthGly` (Ethanol/Glycerol)\n",
    "\n",
    "Let's load the dataset and explore the structure."
   ]
  },
  {
   "cell_type": "code",
   "execution_count": null,
   "metadata": {},
   "outputs": [],
   "source": [
    "# Define data directory\n",
    "DATA_DIR = f\"{scribe.utils.git_root()}/data/yeast\"\n",
    "\n",
    "# List all files in the data directory\n",
    "file = glob.glob(f\"{DATA_DIR}/*h5ad\", recursive=True)\n",
    "\n",
    "# Load the dataset\n",
    "data = sc.read_h5ad(file[0])\n",
    "\n",
    "# Explore the structure of the dataset\n",
    "data"
   ]
  },
  {
   "cell_type": "markdown",
   "metadata": {},
   "source": [
    "Let's extract the different datasets from the `obs` object."
   ]
  },
  {
   "cell_type": "code",
   "execution_count": null,
   "metadata": {},
   "outputs": [],
   "source": [
    "# Group by `batch` and extract index for each batch\n",
    "df_group = data.obs.groupby('batch')\n",
    "\n",
    "# Extract index for each batch\n",
    "idxs = df_group.indices\n",
    "\n",
    "# Extract data for each batch\n",
    "data_batch = {k: data[v] for k, v in idxs.items()}\n",
    "\n",
    "# Explore the structure of the dataset\n",
    "data_batch"
   ]
  },
  {
   "cell_type": "markdown",
   "metadata": {},
   "source": [
    "First, let's compute the total UMI counts per cell for each batch."
   ]
  },
  {
   "cell_type": "code",
   "execution_count": 4,
   "metadata": {},
   "outputs": [],
   "source": [
    "# Initialize dictionary to store total UMI counts per cell\n",
    "umi_counts = {}\n",
    "\n",
    "# Loop through each batch\n",
    "for batch in data_batch.keys():\n",
    "    # Get total UMI counts per cell and flatten from 1 x n matrix to array\n",
    "    umi_counts[batch] = jnp.ravel(data_batch[batch].X.sum(axis=1))"
   ]
  },
  {
   "cell_type": "markdown",
   "metadata": {},
   "source": [
    "Let's look at the distribution of total UMI counts per cell on each of the datasets."
   ]
  },
  {
   "cell_type": "code",
   "execution_count": null,
   "metadata": {},
   "outputs": [],
   "source": [
    "# Initialize figure\n",
    "fig, ax = plt.subplots(1, 2, figsize=(6, 3))\n",
    "\n",
    "# Loop through each batch\n",
    "for i, batch in enumerate(umi_counts.keys()):\n",
    "    # Plot distribution of total UMI counts per cell\n",
    "    sns.histplot(\n",
    "        umi_counts[batch], bins=100, ax=ax[0], label=batch\n",
    "    )\n",
    "    sns.ecdfplot(umi_counts[batch], ax=ax[1], label=batch)\n",
    "\n",
    "# Set title and labels\n",
    "ax[0].set_xlabel('total UMI counts')\n",
    "ax[0].set_ylabel('# cells')\n",
    "ax[1].set_xlabel('total UMI counts')\n",
    "ax[1].set_ylabel('ECDF')\n",
    "\n",
    "# Add legend\n",
    "ax[0].legend()\n",
    "ax[1].legend()\n",
    "\n",
    "plt.tight_layout()"
   ]
  },
  {
   "cell_type": "markdown",
   "metadata": {},
   "source": [
    "There is massive variability between cells, but let's zoom in where most of the cells are."
   ]
  },
  {
   "cell_type": "code",
   "execution_count": null,
   "metadata": {},
   "outputs": [],
   "source": [
    "# Define upper limit\n",
    "UMI_LIMIT = 250\n",
    "\n",
    "# Initialize figure\n",
    "fig, ax = plt.subplots(1, 2, figsize=(6, 3))\n",
    "\n",
    "# Loop through each batch\n",
    "for i, batch in enumerate(umi_counts.keys()):\n",
    "    # Plot distribution of total UMI counts per cell\n",
    "    sns.histplot(\n",
    "        umi_counts[batch][umi_counts[batch] < UMI_LIMIT], \n",
    "        bins=np.arange(0, UMI_LIMIT, 10), \n",
    "        ax=ax[0], \n",
    "        label=batch\n",
    "    )\n",
    "    sns.ecdfplot(\n",
    "        umi_counts[batch][umi_counts[batch] < UMI_LIMIT], \n",
    "        ax=ax[1], \n",
    "        label=batch\n",
    "    )\n",
    "\n",
    "# Set title and labels\n",
    "ax[0].set_xlabel('total UMI counts')\n",
    "ax[0].set_ylabel('# cells')\n",
    "ax[1].set_xlabel('total UMI counts')\n",
    "ax[1].set_ylabel('ECDF')\n",
    "\n",
    "# Add legend\n",
    "ax[0].legend(fontsize=7)\n",
    "ax[1].legend(fontsize=7)\n",
    "\n",
    "# Add global title\n",
    "fig.suptitle(f'UMI counts per cell [0, {UMI_LIMIT})')\n",
    "\n",
    "plt.tight_layout()"
   ]
  },
  {
   "cell_type": "markdown",
   "metadata": {},
   "source": [
    "When zooming in, we can see that there is a very large peak of cells with less than 10 UMI counts. Let's remove these cells and re-plot the distribution to focus on the main population that was measured."
   ]
  },
  {
   "cell_type": "code",
   "execution_count": null,
   "metadata": {},
   "outputs": [],
   "source": [
    "# Define upper limit\n",
    "UMI_LIMITS = [10, 250]\n",
    "\n",
    "# Initialize figure\n",
    "fig, ax = plt.subplots(1, 2, figsize=(6, 3))\n",
    "\n",
    "# Loop through each batch\n",
    "for i, batch in enumerate(umi_counts.keys()):\n",
    "    # Plot distribution of total UMI counts per cell\n",
    "    sns.histplot(\n",
    "        umi_counts[batch][\n",
    "            (umi_counts[batch] < UMI_LIMITS[1]) & \n",
    "            (umi_counts[batch] > UMI_LIMITS[0])\n",
    "        ],\n",
    "        bins=np.arange(0, UMI_LIMITS[1], 10), \n",
    "        ax=ax[0], \n",
    "        label=batch\n",
    "    )\n",
    "    sns.ecdfplot(\n",
    "        umi_counts[batch][\n",
    "            (umi_counts[batch] < UMI_LIMITS[1]) & \n",
    "            (umi_counts[batch] > UMI_LIMITS[0])\n",
    "        ], \n",
    "        ax=ax[1], \n",
    "        label=batch\n",
    "    )\n",
    "\n",
    "# Set title and labels\n",
    "ax[0].set_xlabel('total UMI counts')\n",
    "ax[0].set_ylabel('# cells')\n",
    "ax[1].set_xlabel('total UMI counts')\n",
    "ax[1].set_ylabel('ECDF')\n",
    "\n",
    "# Add legend\n",
    "ax[0].legend(fontsize=7)\n",
    "ax[1].legend(fontsize=7)\n",
    "\n",
    "# Add global title\n",
    "fig.suptitle(f'UMI counts per cell ({UMI_LIMITS[0]}, {UMI_LIMITS[1]})')\n",
    "\n",
    "plt.tight_layout()"
   ]
  },
  {
   "cell_type": "markdown",
   "metadata": {},
   "source": [
    "Let's now explore the second dataset. This dataset was generated with a novaseq\n",
    "flowcell, so it has a deeper coverage."
   ]
  },
  {
   "cell_type": "code",
   "execution_count": null,
   "metadata": {},
   "outputs": [],
   "source": [
    "# List all files in the data directory\n",
    "file = glob.glob(f\"{DATA_DIR}/*h5ad\", recursive=True)\n",
    "\n",
    "# Load the dataset\n",
    "data = sc.read_h5ad(file[-1])\n",
    "\n",
    "# Explore the structure of the dataset\n",
    "data"
   ]
  },
  {
   "cell_type": "code",
   "execution_count": null,
   "metadata": {},
   "outputs": [],
   "source": [
    "# Group by `batch` and extract index for each batch\n",
    "df_group = data.obs.groupby('batch')\n",
    "\n",
    "# Extract index for each batch\n",
    "idxs = df_group.indices\n",
    "\n",
    "# Extract data for each batch\n",
    "data_batch = {k: data[v] for k, v in idxs.items()}\n",
    "\n",
    "# Explore the structure of the dataset\n",
    "data_batch"
   ]
  },
  {
   "cell_type": "code",
   "execution_count": 10,
   "metadata": {},
   "outputs": [],
   "source": [
    "# Initialize dictionary to store total UMI counts per cell\n",
    "umi_counts = {}\n",
    "\n",
    "# Loop through each batch\n",
    "for batch in data_batch.keys():\n",
    "    # Get total UMI counts per cell and flatten from 1 x n matrix to array\n",
    "    umi_counts[batch] = jnp.ravel(data_batch[batch].X.sum(axis=1))"
   ]
  },
  {
   "cell_type": "code",
   "execution_count": null,
   "metadata": {},
   "outputs": [],
   "source": [
    "# Initialize figure\n",
    "fig, ax = plt.subplots(1, 2, figsize=(6, 3))\n",
    "\n",
    "# Loop through each batch\n",
    "for i, batch in enumerate(umi_counts.keys()):\n",
    "    # Plot distribution of total UMI counts per cell\n",
    "    sns.histplot(\n",
    "        umi_counts[batch], bins=100, ax=ax[0], label=batch\n",
    "    )\n",
    "    sns.ecdfplot(umi_counts[batch], ax=ax[1], label=batch)\n",
    "\n",
    "# Set title and labels\n",
    "ax[0].set_xlabel('total UMI counts')\n",
    "ax[0].set_ylabel('# cells')\n",
    "ax[1].set_xlabel('total UMI counts')\n",
    "ax[1].set_ylabel('ECDF')\n",
    "\n",
    "# Add legend\n",
    "ax[0].legend()\n",
    "ax[1].legend()\n",
    "\n",
    "plt.tight_layout()"
   ]
  },
  {
   "cell_type": "code",
   "execution_count": null,
   "metadata": {},
   "outputs": [],
   "source": [
    "# Define upper limit\n",
    "UMI_LIMIT = 250\n",
    "\n",
    "# Initialize figure\n",
    "fig, ax = plt.subplots(1, 2, figsize=(6, 3))\n",
    "\n",
    "# Loop through each batch\n",
    "for i, batch in enumerate(umi_counts.keys()):\n",
    "    # Plot distribution of total UMI counts per cell\n",
    "    sns.histplot(\n",
    "        umi_counts[batch][umi_counts[batch] < UMI_LIMIT], \n",
    "        bins=np.arange(0, UMI_LIMIT, 10), \n",
    "        ax=ax[0], \n",
    "        label=batch\n",
    "    )\n",
    "    sns.ecdfplot(\n",
    "        umi_counts[batch][umi_counts[batch] < UMI_LIMIT], \n",
    "        ax=ax[1], \n",
    "        label=batch\n",
    "    )\n",
    "\n",
    "# Set title and labels\n",
    "ax[0].set_xlabel('total UMI counts')\n",
    "ax[0].set_ylabel('# cells')\n",
    "ax[1].set_xlabel('total UMI counts')\n",
    "ax[1].set_ylabel('ECDF')\n",
    "\n",
    "# Add legend\n",
    "ax[0].legend(fontsize=7)\n",
    "ax[1].legend(fontsize=7)\n",
    "\n",
    "# Add global title\n",
    "fig.suptitle(f'UMI counts per cell [0, {UMI_LIMIT})')\n",
    "\n",
    "plt.tight_layout()"
   ]
  },
  {
   "cell_type": "code",
   "execution_count": null,
   "metadata": {},
   "outputs": [],
   "source": [
    "# Define upper limit\n",
    "UMI_LIMIT = 2_000\n",
    "\n",
    "# Initialize figure\n",
    "fig, ax = plt.subplots(1, 2, figsize=(6, 3))\n",
    "\n",
    "# Loop through each batch\n",
    "for i, batch in enumerate(umi_counts.keys()):\n",
    "    # Plot distribution of total UMI counts per cell\n",
    "    sns.histplot(\n",
    "        umi_counts[batch][umi_counts[batch] > UMI_LIMIT], \n",
    "        # bins=np.arange(0, UMI_LIMIT, 10), \n",
    "        ax=ax[0], \n",
    "        label=batch\n",
    "    )\n",
    "    sns.ecdfplot(\n",
    "        umi_counts[batch][umi_counts[batch] > UMI_LIMIT], \n",
    "        ax=ax[1], \n",
    "        label=batch\n",
    "    )\n",
    "\n",
    "# Set title and labels\n",
    "ax[0].set_xlabel('total UMI counts')\n",
    "ax[0].set_ylabel('# cells')\n",
    "ax[1].set_xlabel('total UMI counts')\n",
    "ax[1].set_ylabel('ECDF')\n",
    "\n",
    "# Add legend\n",
    "ax[0].legend(fontsize=7)\n",
    "ax[1].legend(fontsize=7)\n",
    "\n",
    "# Add global title\n",
    "fig.suptitle(f'UMI counts per cell [{UMI_LIMIT}, infty)')\n",
    "\n",
    "plt.tight_layout()"
   ]
  },
  {
   "cell_type": "markdown",
   "metadata": {},
   "source": [
    "Let's now print the number of cells in each batch above the threshold."
   ]
  },
  {
   "cell_type": "code",
   "execution_count": null,
   "metadata": {},
   "outputs": [],
   "source": [
    "# Define upper limit\n",
    "UMI_LIMIT = 1_000\n",
    "\n",
    "# Loop through each batch\n",
    "for batch in umi_counts.keys():\n",
    "    # Print number of cells above threshold\n",
    "    print(f'{batch}: {np.sum(umi_counts[batch] > UMI_LIMIT)} cells')\n"
   ]
  },
  {
   "cell_type": "code",
   "execution_count": null,
   "metadata": {},
   "outputs": [],
   "source": []
  }
 ],
 "metadata": {
  "kernelspec": {
   "display_name": "Python 3",
   "language": "python",
   "name": "python3"
  },
  "language_info": {
   "codemirror_mode": {
    "name": "ipython",
    "version": 3
   },
   "file_extension": ".py",
   "mimetype": "text/x-python",
   "name": "python",
   "nbconvert_exporter": "python",
   "pygments_lexer": "ipython3",
   "version": "3.10.12"
  }
 },
 "nbformat": 4,
 "nbformat_minor": 2
}
