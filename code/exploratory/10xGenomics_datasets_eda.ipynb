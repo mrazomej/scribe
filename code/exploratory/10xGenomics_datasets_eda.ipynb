{
 "cells": [
  {
   "cell_type": "markdown",
   "metadata": {},
   "source": [
    "(c) 2025 Manuel Razo. This work is licensed under a [Creative Commons\n",
    "Attribution License CC-BY 4.0](https://creativecommons.org/licenses/by/4.0/).\n",
    "All code contained herein is licensed under an [MIT\n",
    "license](https://opensource.org/licenses/MIT)."
   ]
  },
  {
   "cell_type": "code",
   "execution_count": null,
   "metadata": {},
   "outputs": [],
   "source": [
    "# Import base libraries\n",
    "import os\n",
    "import glob\n",
    "import gc\n",
    "import pickle\n",
    "import warnings\n",
    "\n",
    "# Import JAX-related libraries\n",
    "import jax\n",
    "from jax import random\n",
    "import jax.numpy as jnp\n",
    "from numpyro.optim import Adam\n",
    "import numpyro\n",
    "\n",
    "# Import numpy for array manipulation\n",
    "import numpy as np\n",
    "# Import statsmodels for statistical modeling\n",
    "import statsmodels.api as sm\n",
    "# Import scipy for special functions\n",
    "import scipy as sp\n",
    "# Import scikit-learn for PCA\n",
    "from sklearn.decomposition import PCA\n",
    "# Import umap-learn for UMAP\n",
    "from umap import UMAP\n",
    "# Import library to load h5ad files\n",
    "import scanpy as sc\n",
    "# Import pandas for data manipulation\n",
    "import pandas as pd\n",
    "# Import scribe\n",
    "import scribe\n",
    "# Import plotting libraries\n",
    "import matplotlib.pyplot as plt\n",
    "import seaborn as sns\n",
    "# Set plotting style\n",
    "scribe.viz.matplotlib_style()\n",
    "\n",
    "# Import colors\n",
    "color_palette = scribe.viz.colors()"
   ]
  },
  {
   "cell_type": "markdown",
   "metadata": {},
   "source": [
    "## Exploratory data analysis of `10xGenomics 50%:50% Jurkat:293T Cell Mixture` dataset"
   ]
  },
  {
   "cell_type": "markdown",
   "metadata": {},
   "source": [
    "In this notebook, we will perform an exploratory data analysis of the `10xGenomics 50%:50% Jurkat:293T Cell Mixture` dataset. This is a public dataset provided by 10xGenomics with a mixture of Jurkat and 293T cells."
   ]
  },
  {
   "cell_type": "markdown",
   "metadata": {},
   "source": [
    "## Raw counts exploratory data analysis"
   ]
  },
  {
   "cell_type": "markdown",
   "metadata": {},
   "source": [
    "Let's begin by listing the files in the dataset directory."
   ]
  },
  {
   "cell_type": "code",
   "execution_count": null,
   "metadata": {},
   "outputs": [],
   "source": [
    "# Define the path to the dataset\n",
    "DATA_DIR = f\"{scribe.utils.git_root()}/data/10xGenomics/50-50_Jurkat-293T_mixture\"\n",
    "\n",
    "# List all files in directory\n",
    "files = glob.glob(f\"{DATA_DIR}/*\")\n",
    "\n",
    "files"
   ]
  },
  {
   "cell_type": "markdown",
   "metadata": {},
   "source": [
    "The data is contained in the `matrix.mtx` file. We can load it using `scanpy.read_mtx`."
   ]
  },
  {
   "cell_type": "code",
   "execution_count": null,
   "metadata": {},
   "outputs": [],
   "source": [
    "# Load the data\n",
    "data = sc.read_mtx(f\"{DATA_DIR}/matrix.mtx\")\n",
    "\n",
    "# Transpose the matrix to have cells as rows and genes as columns\n",
    "data = data.T  \n",
    "\n",
    "data"
   ]
  },
  {
   "cell_type": "markdown",
   "metadata": {},
   "source": [
    "This file format is a bit unusual as the metadata is not contained in the file, but in separate files. Let's load the metadata files."
   ]
  },
  {
   "cell_type": "code",
   "execution_count": null,
   "metadata": {},
   "outputs": [],
   "source": [
    "# Load the genes.tsv file\n",
    "genes = pd.read_csv(f\"{DATA_DIR}/genes.tsv\", sep=\"\\t\", header=None)\n",
    "\n",
    "genes.head(5)"
   ]
  },
  {
   "cell_type": "code",
   "execution_count": null,
   "metadata": {},
   "outputs": [],
   "source": [
    "# Load the barcodes.tsv file\n",
    "barcodes = pd.read_csv(f\"{DATA_DIR}/barcodes.tsv\", sep=\"\\t\", header=None)\n",
    "\n",
    "barcodes.head(5)"
   ]
  },
  {
   "cell_type": "markdown",
   "metadata": {},
   "source": [
    "This is the metadata that should be included in the `matrix.mtx` file. Let's add it to the `data` object."
   ]
  },
  {
   "cell_type": "code",
   "execution_count": null,
   "metadata": {},
   "outputs": [],
   "source": [
    "# Transpose the data matrix and add metadata\n",
    "data.var_names = genes.iloc[:, 0]  # Now genes (var) should match\n",
    "data.obs_names = barcodes.iloc[:, 0]  # And barcodes (obs) should match\n",
    "\n",
    "# Optional: Add gene symbols as additional metadata\n",
    "data.var['name'] = genes.iloc[:, 1].values\n",
    "\n",
    "data"
   ]
  },
  {
   "cell_type": "markdown",
   "metadata": {},
   "source": [
    "Let's save this object as an `h5ad` file."
   ]
  },
  {
   "cell_type": "code",
   "execution_count": null,
   "metadata": {},
   "outputs": [],
   "source": [
    "# Save the data object to an h5ad file\n",
    "data.write_h5ad(f\"{DATA_DIR}/data.h5ad\")\n",
    "\n",
    "# Convert the data object to a dataframe\n",
    "df = data.to_df()\n",
    "\n",
    "df.head(5)"
   ]
  },
  {
   "cell_type": "markdown",
   "metadata": {},
   "source": [
    "Now we can begin the exploratory data analysis.\n",
    "\n",
    "Let's begin by plotting the distribution of total UMI counts per cell."
   ]
  },
  {
   "cell_type": "code",
   "execution_count": null,
   "metadata": {},
   "outputs": [],
   "source": [
    "# Initialize figure\n",
    "fig, axes = plt.subplots(1, 2, figsize=(6, 3))\n",
    "\n",
    "# Compute total counts per cell removing the first column (gene names)\n",
    "total_counts = df.sum(axis=1)\n",
    "\n",
    "# Plot the distribution of total counts per cell\n",
    "sns.histplot(total_counts, ax=axes[0], color=color_palette['blue'])\n",
    "sns.ecdfplot(total_counts, ax=axes[1], color=color_palette['blue'])\n",
    "\n",
    "# Set title and labels\n",
    "axes[0].set_xlabel('total UMI counts')\n",
    "axes[0].set_ylabel('# cells')\n",
    "axes[1].set_xlabel('total UMI counts')\n",
    "axes[1].set_ylabel('ECDF')\n",
    "\n",
    "plt.tight_layout()"
   ]
  },
  {
   "cell_type": "markdown",
   "metadata": {},
   "source": [
    "This is a reasonably looking distribution. There are no extreme outliers on either end of the distribution. However, there is an obvious cutoff on the left side of the distribution, where cells with very few UMIs must have been removed."
   ]
  },
  {
   "cell_type": "markdown",
   "metadata": {},
   "source": [
    "Let's now perfomr PCA on the data and plot the first two principal components."
   ]
  },
  {
   "cell_type": "code",
   "execution_count": null,
   "metadata": {},
   "outputs": [],
   "source": [
    "# Perform PCA on the data\n",
    "pca = PCA(n_components=2)\n",
    "pca_result = pca.fit_transform(df.values)\n",
    "\n",
    "# Initialize figure\n",
    "fig, ax = plt.subplots(figsize=(4, 3))\n",
    "\n",
    "# Plot the first two principal components\n",
    "scatter = ax.scatter(\n",
    "    pca_result[:, 0], \n",
    "    pca_result[:, 1], \n",
    "    c=total_counts, \n",
    "    cmap='viridis',\n",
    "    s=8\n",
    ")\n",
    "\n",
    "# Label axes\n",
    "ax.set_xlabel('Principal Component 1')\n",
    "ax.set_ylabel('Principal Component 2')\n",
    "# Set title\n",
    "ax.set_title('PCA of 10xGenomics \\n50%:50% Jurkat:293T Cell Mixture')\n",
    "\n",
    "plt.colorbar(scatter, ax=ax, label='total UMI counts')"
   ]
  },
  {
   "cell_type": "markdown",
   "metadata": {},
   "source": [
    "From this projection, we can sort of see a separation between the two cell types. However, it is not very clear. Let's try using UMAP."
   ]
  },
  {
   "cell_type": "code",
   "execution_count": null,
   "metadata": {},
   "outputs": [],
   "source": [
    "# Initialize UMAP\n",
    "umap = UMAP(n_components=2)\n",
    "# Fit UMAP\n",
    "umap_result = umap.fit_transform(df.values)"
   ]
  },
  {
   "cell_type": "markdown",
   "metadata": {},
   "source": [
    "Now, let's plot the UMAP."
   ]
  },
  {
   "cell_type": "code",
   "execution_count": null,
   "metadata": {},
   "outputs": [],
   "source": [
    "# Initialize figure\n",
    "fig, ax = plt.subplots(figsize=(4, 3))\n",
    "\n",
    "# Plot the UMAP\n",
    "scatter = ax.scatter(\n",
    "    umap_result[:, 0], \n",
    "    umap_result[:, 1], \n",
    "    c=total_counts, \n",
    "    cmap='viridis',\n",
    "    s=8\n",
    ")\n",
    "\n",
    "# Add colorbar\n",
    "plt.colorbar(scatter, ax=ax, label='total UMI counts')\n",
    "\n",
    "# Label axes\n",
    "ax.set_xlabel('UMAP 1')\n",
    "ax.set_ylabel('UMAP 2')\n",
    "# Set title\n",
    "ax.set_title('UMAP of 10xGenomics \\n50%:50% Jurkat:293T Cell Mixture')\n"
   ]
  },
  {
   "cell_type": "markdown",
   "metadata": {},
   "source": [
    "UMAP **clearly** shows a separation between the two cell types divided by the first UMAP dimension. Let's quantify the proportion of cells on each side of the UMAP dimension."
   ]
  },
  {
   "cell_type": "code",
   "execution_count": null,
   "metadata": {},
   "outputs": [],
   "source": [
    "# Quantify proportion of cells with UMAP 1 < 5\n",
    "count_low = np.mean(umap_result[:, 0] < 5)\n",
    "count_high = np.mean(umap_result[:, 0] > 5)\n",
    "\n",
    "# Print results\n",
    "print(f\"Proportion of cells with UMAP 1 < 5: {count_low / (count_low + count_high):.2%}\")\n",
    "print(f\"Proportion of cells with UMAP 1 > 5: {count_high / (count_low + count_high):.2%}\")"
   ]
  }
 ],
 "metadata": {
  "kernelspec": {
   "display_name": "Python 3",
   "language": "python",
   "name": "python3"
  },
  "language_info": {
   "codemirror_mode": {
    "name": "ipython",
    "version": 3
   },
   "file_extension": ".py",
   "mimetype": "text/x-python",
   "name": "python",
   "nbconvert_exporter": "python",
   "pygments_lexer": "ipython3",
   "version": "3.10.12"
  }
 },
 "nbformat": 4,
 "nbformat_minor": 2
}
